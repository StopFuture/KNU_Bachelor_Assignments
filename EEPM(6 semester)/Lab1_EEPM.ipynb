{
  "nbformat": 4,
  "nbformat_minor": 0,
  "metadata": {
    "colab": {
      "provenance": []
    },
    "kernelspec": {
      "name": "python3",
      "display_name": "Python 3"
    },
    "language_info": {
      "name": "python"
    }
  },
  "cells": [
    {
      "cell_type": "markdown",
      "source": [
        "# Init"
      ],
      "metadata": {
        "id": "23ERFnUH9h-A"
      }
    },
    {
      "cell_type": "code",
      "source": [
        "import numpy as np\n",
        "import pandas as pd\n",
        "import matplotlib.pyplot as plt\n",
        "\n",
        "from sklearn.preprocessing import PolynomialFeatures\n",
        "from sklearn.linear_model import LinearRegression\n",
        "from sklearn.metrics import r2_score\n",
        "from scipy.optimize import fsolve\n",
        "from scipy.misc import derivative\n",
        "\n",
        "import warnings\n",
        "warnings.filterwarnings('ignore')\n",
        "\n"
      ],
      "metadata": {
        "id": "ZgPIp2S0NsCS"
      },
      "execution_count": 1,
      "outputs": []
    },
    {
      "cell_type": "code",
      "source": [
        "data = {\n",
        "    'Price': [0.1, 0.3, 0.45, 0.7, 0.8, 1.05, 1.2, 1.25, 1.31, 1.4, 1.47, 1.55],\n",
        "    'Demand': [100, 69, 58, 40, 35, 20, 18, 17, 19, 21, 18, 15],\n",
        "    'Supply': [10, 25, 39, 52, 60, 84, 91, 95, 97, 100, 105, 108]\n",
        "}\n",
        "\n",
        "df = pd.DataFrame(data)"
      ],
      "metadata": {
        "id": "yrTFnDgl1U3D"
      },
      "execution_count": 2,
      "outputs": []
    },
    {
      "cell_type": "markdown",
      "source": [
        "# Main"
      ],
      "metadata": {
        "id": "g_07KuNAK047"
      }
    },
    {
      "cell_type": "code",
      "source": [
        "fig, axs = plt.subplots(1, 2, figsize=(14, 6))\n",
        "\n",
        "axs[0].plot(df['Price'], df['Demand'], marker='o', linestyle='-', color='blue')\n",
        "axs[0].set_title('Price vs Demand')\n",
        "axs[0].set_xlabel('Price')\n",
        "axs[0].set_ylabel('Demand')\n",
        "\n",
        "\n",
        "axs[1].plot(df['Price'], df['Supply'], marker='o', linestyle='-', color='red')\n",
        "axs[1].set_title('Price vs Supply')\n",
        "axs[1].set_xlabel('Price')\n",
        "axs[1].set_ylabel('Supply')\n",
        "\n",
        "plt.tight_layout()\n",
        "plt.show()"
      ],
      "metadata": {
        "id": "pfL2Ny_ixT-R"
      },
      "execution_count": null,
      "outputs": []
    },
    {
      "cell_type": "code",
      "source": [
        "def fit_polynomial_model(x, y, max_degree=5):\n",
        "    scores = []\n",
        "    models = []\n",
        "    for degree in range(1, max_degree + 1):\n",
        "        poly_features = PolynomialFeatures(degree=degree)\n",
        "        x_poly = poly_features.fit_transform(x.reshape(-1, 1))\n",
        "\n",
        "        model = LinearRegression()\n",
        "        model.fit(x_poly, y)\n",
        "        y_pred = model.predict(x_poly)\n",
        "\n",
        "        score = r2_score(y, y_pred)\n",
        "        scores.append(score)\n",
        "        models.append((model, poly_features))\n",
        "\n",
        "    best_score = max(scores)\n",
        "    best_index = scores.index(best_score)\n",
        "    best_degree = best_index + 1\n",
        "    best_model, best_poly_features = models[best_index]\n",
        "\n",
        "    return best_degree, best_score, best_model, best_poly_features\n",
        "\n",
        "# Підбір моделей для попиту та пропозиції\n",
        "price = df['Price'].values\n",
        "demand = df['Demand'].values\n",
        "supply = df['Supply'].values\n",
        "\n",
        "demand_degree, demand_score, demand_model, demand_poly_features = fit_polynomial_model(price, demand)\n",
        "supply_degree, supply_score, supply_model, supply_poly_features = fit_polynomial_model(price, supply)\n",
        "\n",
        "\n",
        "def polynomial_model_to_string(coef, intercept):\n",
        "    terms = [f\"{intercept:.2f}\"] + [f\"{coef[i]:.2f}x^{i}\" for i in range(1, len(coef))]\n",
        "    return \" + \".join(terms).replace(\"+ -\", \"- \")\n",
        "\n",
        "demand_model_str = polynomial_model_to_string(demand_model.coef_, demand_model.intercept_)\n",
        "supply_model_str = polynomial_model_to_string(supply_model.coef_, supply_model.intercept_)\n",
        "\n",
        "print(f\"Demand model: y = {demand_model_str}\")\n",
        "print(f\"Supply model: y = {supply_model_str}\")\n"
      ],
      "metadata": {
        "colab": {
          "base_uri": "https://localhost:8080/"
        },
        "id": "Bl7p5AqCOKag",
        "outputId": "8d78fa74-a4ff-4c36-c372-b7ef22a9df06"
      },
      "execution_count": 15,
      "outputs": [
        {
          "output_type": "stream",
          "name": "stdout",
          "text": [
            "Demand model: y = 133.42 - 428.26x^1 + 1085.71x^2 - 1525.61x^3 + 992.85x^4 - 236.15x^5\n",
            "Supply model: y = -6.99 + 210.00x^1 - 506.89x^2 + 755.31x^3 - 483.43x^4 + 110.11x^5\n"
          ]
        }
      ]
    },
    {
      "cell_type": "code",
      "source": [
        "def draw_qp_chart(eq = False,):\n",
        "    prices = np.linspace(min(data['Price']), max(data['Price']), 500)\n",
        "\n",
        "    demand_values = demand_poly_features.transform(prices.reshape(-1, 1))\n",
        "    supply_values = supply_poly_features.transform(prices.reshape(-1, 1))\n",
        "    demand_plot = demand_model.predict(demand_values)\n",
        "    supply_plot = supply_model.predict(supply_values)\n",
        "\n",
        "\n",
        "    plt.figure(figsize=(10, 6))\n",
        "    plt.plot(prices, demand_plot, label='Demand Curve', color='blue')\n",
        "    plt.plot(prices, supply_plot, label='Supply Curve', color='green')\n",
        "    if eq != False:\n",
        "        plt.scatter(eq[0],eq[1], color='red', alpha=1, label='Equilibrium')\n",
        "        plt.text(eq[0],eq[1], f'Equilibrium\\n({equilibrium_price:.2f}, {equilibrium_demand:.2f})', verticalalignment='bottom', color ='red')\n",
        "    plt.scatter(data['Price'], data['Demand'], color='blue', alpha=0.5, label='Actual Demand')\n",
        "    plt.scatter(data['Price'], data['Supply'], color='green', alpha=0.5, label='Actual Supply')\n",
        "    plt.title('Demand and Supply Curves')\n",
        "    plt.xlabel('Price')\n",
        "    plt.ylabel('Quantity')\n",
        "    plt.legend()\n",
        "    plt.grid(True)\n",
        "    plt.show()\n",
        "draw_qp_chart()\n",
        "\n"
      ],
      "metadata": {
        "id": "ETlTNASNOUE-"
      },
      "execution_count": null,
      "outputs": []
    },
    {
      "cell_type": "code",
      "source": [
        "# Функція для обчислення різниці між попитом і пропозицією\n",
        "def demand_supply_difference(price):\n",
        "    demand_poly = demand_poly_features.transform([price])\n",
        "    supply_poly = supply_poly_features.transform([price])\n",
        "    demand_val = demand_model.predict(demand_poly)\n",
        "    supply_val = supply_model.predict(supply_poly)\n",
        "    return demand_val - supply_val\n",
        "\n",
        "\n",
        "initial_guess = 1.0\n",
        "equilibrium_price = fsolve(demand_supply_difference, initial_guess)[0]\n",
        "equilibrium_demand = demand_model.predict(demand_poly_features.transform([[equilibrium_price]]))[0]\n",
        "equilibrium = (equilibrium_price, equilibrium_demand)\n",
        "print(f\"Equilibrium Price: {equilibrium_price:.2f}\")\n",
        "print(f\"Equilibrium Demand/Supply: {equilibrium_demand:.2f}\")\n"
      ],
      "metadata": {
        "colab": {
          "base_uri": "https://localhost:8080/"
        },
        "id": "b9GhdZDubW3H",
        "outputId": "2372c609-c5c0-48d4-b960-13c4429c3d82"
      },
      "execution_count": 79,
      "outputs": [
        {
          "output_type": "stream",
          "name": "stdout",
          "text": [
            "Equilibrium Price: 0.62\n",
            "Equilibrium Demand/Supply: 46.87\n"
          ]
        }
      ]
    },
    {
      "cell_type": "code",
      "source": [
        "draw_qp_chart(eq=equilibrium)"
      ],
      "metadata": {
        "id": "fZAUTo57bzBd"
      },
      "execution_count": null,
      "outputs": []
    },
    {
      "cell_type": "code",
      "source": [
        "def demand_function(price):\n",
        "    return demand_model.predict(demand_poly_features.transform([[price]]))[0]\n",
        "def supply_function(price):\n",
        "    return supply_model.predict(supply_poly_features.transform([[price]]))[0]\n",
        "\n",
        "\n",
        "demand_slope = derivative(demand_function, equilibrium_price, dx=1e-6) # Ed\n",
        "supply_slope = derivative(supply_function, equilibrium_price, dx=1e-6) # Es\n",
        "\n",
        "if abs(demand_slope) > abs(supply_slope):\n",
        "    stability = \"stable\"\n",
        "else:\n",
        "    stability = \"unstable\"\n",
        "\n",
        "print(f\"Demand slope at equilibrium: {demand_slope:.2f}\")\n",
        "print(f\"Supply slope at equilibrium: {supply_slope:.2f}\")\n",
        "print(f\"The equilibrium is {stability}.\")\n"
      ],
      "metadata": {
        "colab": {
          "base_uri": "https://localhost:8080/"
        },
        "id": "H6eMO_xZfjyq",
        "outputId": "2a268258-caa9-442f-851c-41df512043b5"
      },
      "execution_count": 81,
      "outputs": [
        {
          "output_type": "stream",
          "name": "stdout",
          "text": [
            "Demand slope at equilibrium: -69.18\n",
            "Supply slope at equilibrium: 72.78\n",
            "The equilibrium is unstable.\n"
          ]
        }
      ]
    },
    {
      "cell_type": "code",
      "source": [
        "P1, P2 = data['Price'][0], data['Price'][-1]\n",
        "Q1_demand, Q2_demand = data['Demand'][0], data['Demand'][-1]\n",
        "Q1_supply, Q2_supply = data['Supply'][0], data['Supply'][-1]\n",
        "\n",
        "# Calculating arc elasticity for demand\n",
        "arc_elasticity_demand = ((Q2_demand - Q1_demand) / ((Q2_demand + Q1_demand) / 2)) / ((P2 - P1) / ((P2 + P1) / 2))\n",
        "\n",
        "# Calculating arc elasticity for supply\n",
        "arc_elasticity_supply = ((Q2_supply - Q1_supply) / ((Q2_supply + Q1_supply) / 2)) / ((P2 - P1) / ((P2 + P1) / 2))\n",
        "\n",
        "arc_elasticity_demand, arc_elasticity_supply\n"
      ],
      "metadata": {
        "colab": {
          "base_uri": "https://localhost:8080/"
        },
        "id": "rNM7C-L1kueT",
        "outputId": "ac72eaa0-059d-4701-a5ec-aae2d2f0b60a"
      },
      "execution_count": 82,
      "outputs": [
        {
          "output_type": "execute_result",
          "data": {
            "text/plain": [
              "(-0.8410794602698651, 0.9450613676212742)"
            ]
          },
          "metadata": {},
          "execution_count": 82
        }
      ]
    },
    {
      "cell_type": "code",
      "source": [
        "taxes_demand = 0.2\n",
        "taxes_supply = 0\n",
        "\n",
        "# Ensure the price is reshaped correctly within the demand and adjusted supply functions\n",
        "def adjusted_demand_function(price):\n",
        "    price_reshaped = np.array(price).reshape(-1, 1)\n",
        "    price_before_tax = price_reshaped + taxes_demand\n",
        "    return demand_model.predict(demand_poly_features.transform(price_before_tax))[0]\n",
        "\n",
        "def adjusted_supply_function(price):\n",
        "    price_reshaped = np.array(price).reshape(-1, 1)\n",
        "    price_before_tax = price_reshaped - taxes_supply\n",
        "    return supply_model.predict(supply_poly_features.transform(price_before_tax))[0]\n",
        "\n",
        "\n",
        "new_equilibrium_price = fsolve(lambda price: adjusted_demand_function(price) - adjusted_supply_function(price), initial_guess)[0]\n",
        "new_equilibrium_quantity = supply_function(new_equilibrium_price)\n",
        "\n"
      ],
      "metadata": {
        "id": "UUf62yTVr9Uw"
      },
      "execution_count": 106,
      "outputs": []
    },
    {
      "cell_type": "code",
      "source": [
        "price_range = np.linspace(min(data['Price']), max(data['Price']), 100)\n",
        "original_demand_values = [demand_function(price) for price in price_range]\n",
        "adjusted_demand_values = [adjusted_demand_function(price) for price in price_range]\n",
        "original_supply_values = [supply_function(price) for price in price_range]\n",
        "adjusted_supply_values = [adjusted_supply_function(price) for price in price_range]\n",
        "\n",
        "\n",
        "plt.figure(figsize=(10, 6))\n",
        "plt.plot(price_range, original_demand_values, label='Original Demand Curve', color='blue', linestyle='dashed')\n",
        "plt.plot(price_range, adjusted_demand_values, label='Adjusted Demand Curve for Taxes', color='green')\n",
        "plt.plot(price_range, original_supply_values, label='Original Supply Curve', color='red')\n",
        "# plt.plot(price_range, adjusted_supply_values, label='Adjusted Supply Curve for Tax', color='green')\n",
        "\n",
        "# Mark original and new equilibrium\n",
        "plt.scatter(equilibrium_price, equilibrium_demand, color='red', zorder=5)\n",
        "plt.text(equilibrium_price, equilibrium_demand, f'Original Equilibrium\\n({equilibrium_price:.2f}, {equilibrium_demand:.2f})\\n', verticalalignment='bottom')\n",
        "\n",
        "plt.scatter(new_equilibrium_price, new_equilibrium_quantity, color='orange', zorder=5)\n",
        "plt.text(new_equilibrium_price, new_equilibrium_quantity, f'New Equilibrium\\n({new_equilibrium_price:.2f}, {new_equilibrium_quantity:.2f})', verticalalignment='top')\n",
        "\n",
        "plt.xlabel('Price')\n",
        "plt.ylabel('Quantity')\n",
        "plt.title('Market Equilibrium with 0.2$ Tax on Demand')\n",
        "plt.legend()\n",
        "plt.grid(True)\n",
        "plt.show()\n"
      ],
      "metadata": {
        "id": "gyMwrqewsFEy"
      },
      "execution_count": null,
      "outputs": []
    }
  ]
}