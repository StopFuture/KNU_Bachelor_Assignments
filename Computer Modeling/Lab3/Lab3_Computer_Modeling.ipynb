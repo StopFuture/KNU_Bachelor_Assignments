{
  "nbformat": 4,
  "nbformat_minor": 0,
  "metadata": {
    "colab": {
      "provenance": []
    },
    "kernelspec": {
      "name": "python3",
      "display_name": "Python 3"
    },
    "language_info": {
      "name": "python"
    }
  },
  "cells": [
    {
      "cell_type": "code",
      "execution_count": 47,
      "metadata": {
        "id": "RwK2tZwFdy8q"
      },
      "outputs": [],
      "source": [
        "import numpy as np\n",
        "import matplotlib.pyplot as plt\n",
        "import pandas as pd\n"
      ]
    },
    {
      "cell_type": "markdown",
      "source": [
        "# Task 1\n"
      ],
      "metadata": {
        "id": "C9svuIy48Lii"
      }
    },
    {
      "cell_type": "code",
      "source": [
        "def runge_kutta_method(x0, y0, h, f, details=False):\n",
        "    k1 = h * f(x0, y0)\n",
        "    k2 = h * f(x0 + h / 2, y0 + k1 / 2)\n",
        "    k3 = h * f(x0 + h / 2, y0 + k2 / 2)\n",
        "    k4 = h * f(x0 + h, y0 + k3)\n",
        "\n",
        "    y = y0 + (k1 + 2 * k2 + 2 * k3 + k4) / 6\n",
        "    x = x0 + h\n",
        "    if details:\n",
        "        print(f\"{x = }, {y = }\")\n",
        "        print(f\"{k1 = }, {k2 = }, {k3 = }, {k4 = }\")\n",
        "        print(\"-\"*10)\n",
        "\n",
        "\n",
        "\n",
        "    return x, y, f(x, y)\n",
        "\n",
        "def f(x, y):\n",
        "    return x ** 0.5 - y ** 0.5\n",
        "\n",
        "x0 = 1\n",
        "y0 = 1\n",
        "h = 0.1\n",
        "\n",
        "for i in range(3):\n",
        "    print(f\"Iteration {i + 1}:\")\n",
        "    x0, y0, f_xy = runge_kutta_method(x0, y0, h, f, True)\n"
      ],
      "metadata": {
        "colab": {
          "base_uri": "https://localhost:8080/"
        },
        "id": "-_Ju6dgOizZn",
        "outputId": "1c8c44b6-dd7d-46be-d1c0-17263088e65b"
      },
      "execution_count": 59,
      "outputs": [
        {
          "output_type": "stream",
          "name": "stdout",
          "text": [
            "Iteration 1:\n",
            "x = 1.1, y = 1.0024191935157691\n",
            "k1 = 0.0, k2 = 0.0024695076595959934, k3 = 0.0024077890140621117, k4 = 0.004760567747298383\n",
            "----------\n",
            "Iteration 2:\n",
            "x = 1.2000000000000002, y = 1.0093724291211676\n",
            "k1 = 0.0047599982090865915, k2 = 0.006998380530957049, k3 = 0.0069425703085237885, k4 = 0.00907751374434236\n",
            "----------\n",
            "Iteration 3:\n",
            "x = 1.3000000000000003, y = 1.0204421228516556\n",
            "k1 = 0.00907698295965984, k2 = 0.011110255086497234, k3 = 0.011059785843471892, k4 = 0.013001097563329012\n",
            "----------\n"
          ]
        }
      ]
    },
    {
      "cell_type": "code",
      "source": [
        "x0, y0, h = 1, 1, 0.1\n",
        "x_values, y_values = [x0], [y0]\n",
        "for _ in range(3):\n",
        "    x0, y0, f_xy = runge_kutta_method(x0, y0, h, f, False)\n",
        "    x_values.append(x0)\n",
        "    y_values.append(y0)\n",
        "\n",
        "def adams_method(x_values, y_values, h, f):\n",
        "    # Adams-Bashforth Predictor\n",
        "    yp = y_values[-1] + (h / 24) * (55 * f(x_values[-1], y_values[-1])\n",
        "                                    - 59 * f(x_values[-2], y_values[-2])\n",
        "                                    + 37 * f(x_values[-3], y_values[-3])\n",
        "                                     - 9 * f(x_values[-4], y_values[-4]))\n",
        "    # Adams-Moulton Corrector\n",
        "    xc = x_values[-1] + h\n",
        "    yc = y_values[-1] + (h / 24) * (9 * f(xc, yp)\n",
        "                                    + 19 * f(x_values[-1], y_values[-1])\n",
        "                                    - 5 * f(x_values[-2], y_values[-2])\n",
        "                                    + f(x_values[-3], y_values[-3]))\n",
        "\n",
        "    return xc, yc\n",
        "\n",
        "while x0 < 2:\n",
        "    x0, y0 = adams_method(x_values, y_values, h, f)\n",
        "    x_values.append(x0)\n",
        "    y_values.append(y0)\n",
        "\n",
        "df = pd.DataFrame({'x': x_values, 'y': y_values})\n",
        "print(df)\n",
        "\n",
        "plt.figure(figsize=(10, 6))\n",
        "plt.plot(x_values, y_values, marker='*', color='green', linestyle='dotted', linewidth=2, markersize=8)\n",
        "plt.xlabel('x', fontsize=14)\n",
        "plt.ylabel('y', fontsize=14)\n",
        "plt.title('y(x)', fontsize=16)\n",
        "plt.grid(True, linestyle='--', alpha=0.7)\n",
        "plt.xticks(fontsize=12)\n",
        "plt.yticks(fontsize=12)\n",
        "plt.legend(['y(x)'], loc='upper left', fontsize=12)\n",
        "plt.show()"
      ],
      "metadata": {
        "id": "u2VJ6NQZxAiT"
      },
      "execution_count": null,
      "outputs": []
    },
    {
      "cell_type": "markdown",
      "source": [
        "# Task 2"
      ],
      "metadata": {
        "id": "A85N27vx8RB3"
      }
    },
    {
      "cell_type": "code",
      "source": [
        "h = 0.1\n",
        "x_range = np.arange(0, 1 + h, h)\n",
        "y0, z0 = 0, -1\n",
        "\n",
        "def f(x, y, z):\n",
        "    return z\n",
        "def g(x, y, z):\n",
        "    return 3*x*z - z\n",
        "\n",
        "y_values = np.zeros(len(x_range))\n",
        "z_values = np.zeros(len(x_range))\n",
        "y_values[0], z_values[0] = y0, z0\n",
        "\n",
        "for n in range(len(x_range) - 1):\n",
        "    x_n, y_n, z_n = x_range[n], y_values[n], z_values[n]\n",
        "    y_predict = y_n + h * f(x_n, y_n, z_n)\n",
        "    z_predict = z_n + h * g(x_n, y_n, z_n)\n",
        "\n",
        "    x_next = x_range[n + 1]\n",
        "\n",
        "    y_values[n + 1] = y_n + (h / 2) * (f(x_n, y_n, z_n) + f(x_next, y_predict, z_predict))\n",
        "    z_values[n + 1] = z_n + (h / 2) * (g(x_n, y_n, z_n) + g(x_next, y_predict, z_predict))\n",
        "\n",
        "df = pd.DataFrame({\n",
        "    'x': x_range,\n",
        "    'y(x)': y_values,\n",
        "    \"y'(x)\": z_values\n",
        "})\n",
        "print(df)\n",
        "\n",
        "plt.figure(figsize=(20, 6))\n",
        "\n",
        "plt.subplot(1, 2, 1)\n",
        "plt.plot(x_range, y_values, marker='*', color='green', linestyle='dotted', linewidth=2, markersize=8)\n",
        "plt.xlabel('x', fontsize=14)\n",
        "plt.ylabel('y', fontsize=14)\n",
        "plt.title('y(x)', fontsize=16)\n",
        "plt.grid(True, linestyle='--', alpha=0.7)\n",
        "plt.xticks(fontsize=12)\n",
        "plt.yticks(fontsize=12)\n",
        "plt.legend(['y(x)'], loc='upper left', fontsize=12)\n",
        "\n",
        "plt.subplot(1, 2, 2)\n",
        "plt.plot(x_range, z_values, marker='*', color='blue', linestyle='dotted', linewidth=2, markersize=8)\n",
        "plt.xlabel('x', fontsize=14)\n",
        "plt.ylabel(\"y'(x)\", fontsize=14)\n",
        "plt.title(\"y'(x)\", fontsize=16)\n",
        "plt.grid(True, linestyle='--', alpha=0.7)\n",
        "plt.xticks(fontsize=12)\n",
        "plt.yticks(fontsize=12)\n",
        "plt.legend([\"y'(x)\"], loc='upper left', fontsize=12)\n",
        "\n",
        "plt.tight_layout()\n",
        "plt.show()\n"
      ],
      "metadata": {
        "id": "Pp8qdaut-ISF"
      },
      "execution_count": null,
      "outputs": []
    }
  ]
}