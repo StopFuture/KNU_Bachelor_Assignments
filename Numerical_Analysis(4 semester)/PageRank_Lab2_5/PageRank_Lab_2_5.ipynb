{
  "nbformat": 4,
  "nbformat_minor": 0,
  "metadata": {
    "colab": {
      "provenance": [],
      "toc_visible": true
    },
    "kernelspec": {
      "name": "python3",
      "display_name": "Python 3"
    },
    "language_info": {
      "name": "python"
    }
  },
  "cells": [
    {
      "cell_type": "markdown",
      "source": [
        "# Init"
      ],
      "metadata": {
        "id": "o05__AZxPIfK"
      }
    },
    {
      "cell_type": "code",
      "execution_count": null,
      "metadata": {
        "id": "GSZOFqH09Dwk"
      },
      "outputs": [],
      "source": [
        "import numpy as np\n",
        "from numpy.linalg import inv, norm, eig\n",
        "from math import atan, sin, cos\n",
        "import matplotlib.pyplot as plt\n",
        "import random\n",
        "import networkx as nx\n",
        "import warnings"
      ]
    },
    {
      "cell_type": "markdown",
      "source": [
        "# Main"
      ],
      "metadata": {
        "id": "fErmsVIwQyeA"
      }
    },
    {
      "cell_type": "code",
      "source": [
        "warnings.filterwarnings('ignore')"
      ],
      "metadata": {
        "id": "_bFxO8hBwjw8"
      },
      "execution_count": null,
      "outputs": []
    },
    {
      "cell_type": "code",
      "source": [
        "class web_graph_generator:\n",
        "    def __init__(self):\n",
        "        pass\n",
        "\n",
        "    def generate_web_graph(self, size=5, show=False):\n",
        "        matrix = np.zeros(shape=(size, size))\n",
        "\n",
        "        for i in range(size):\n",
        "            for j in range(size):\n",
        "                matrix[i][j] = 1 if random.randint(0, 99) < 20 else 0\n",
        "                if i == j:\n",
        "                    matrix[i][j] = 0\n",
        "        matrix = self.additional_edges(matrix)\n",
        "        if show :\n",
        "            print(matrix)\n",
        "        return matrix\n",
        "\n",
        "    def additional_edges(self, matrix):\n",
        "        len_ = len(matrix)\n",
        "        for i, row in enumerate(matrix):\n",
        "            if sum(row) == 0:\n",
        "                j = random.randint(0, len_ - 1)\n",
        "                matrix[i][j if i != j else j+1 if i == 0 else j - 1] = 1\n",
        "\n",
        "        for column in range(len_):\n",
        "            if sum(matrix[:, column]) == 0:\n",
        "                i = random.randint(0, len(matrix) - 1)\n",
        "                matrix[i if i != column else i+1 if column == 0 else i - 1][column] = 1\n",
        "\n",
        "        return matrix\n",
        "\n",
        "    def draw_classic(self, matrix):\n",
        "        web_graph = nx.DiGraph(matrix)\n",
        "        nx.draw(web_graph, with_labels=True)\n",
        "\n",
        "        return\n",
        "\n",
        "    def draw_size_dependent(self, matrix):\n",
        "        web_graph = nx.DiGraph(matrix)\n",
        "        # print(nx.degree(web_graph))\n",
        "        weights = [v*200 for c, v in nx.degree(web_graph)]\n",
        "        all_weights = sum(weights)\n",
        "        colors = [weights[i]/all_weights for i in range(len(weights))]\n",
        "        nx.draw(web_graph, node_size=weights, with_labels=True, node_color = colors)\n",
        "\n",
        "        return\n",
        "\n",
        "    def draw_pagerank(self, matrix, weights):\n",
        "        web_graph = nx.DiGraph(matrix)\n",
        "        # print(nx.degree(web_graph))\n",
        "        weights = [v*5*1e4 for v in weights]\n",
        "        all_weights = sum(weights)\n",
        "        colors = [weights[i]/all_weights for i in range(len(weights))]\n",
        "        nx.draw(web_graph, node_size=weights, with_labels=True, node_color = colors)\n",
        "\n",
        "        return\n",
        "\n",
        "    def generate_matrix_A(self, matrix):\n",
        "        len_ = len(matrix)\n",
        "        A = np.zeros(shape=(len_, len_))\n",
        "        for i in range(len_):\n",
        "            from_vertex =sum(matrix[i])\n",
        "            for j in range(len_):\n",
        "                A[i][j] = matrix[i][j] / from_vertex\n",
        "\n",
        "        return A"
      ],
      "metadata": {
        "id": "a7AICW9f9sYh"
      },
      "execution_count": null,
      "outputs": []
    },
    {
      "cell_type": "code",
      "source": [
        "class solver:\n",
        "    def __init__(self):\n",
        "        return\n",
        "\n",
        "    def pagerank(self, matrix, alpha=0.85, accuracy=10**(-9)):\n",
        "        # B = alpha * A + (1 - alpha) * M where M = (m_ij), mij = 1/n\n",
        "        A = matrix.copy().T\n",
        "        n = A.shape[0]\n",
        "        for i in range(n):\n",
        "            col = A[:, i]\n",
        "            A[:, i] = col/np.count_nonzero (col)\n",
        "        M = np.ones(A.shape) / n\n",
        "        B = alpha * A + (1 - alpha) * M\n",
        "        X_prev = np.zeros((n, 1))\n",
        "        X_k = np.ones((n, 1)) / n\n",
        "\n",
        "        while np.linalg.norm(X_k - X_prev) > accuracy:\n",
        "            X_prev = X_k\n",
        "            X_k = np.dot(B, X_k)\n",
        "\n",
        "        result = X_k.reshape((1, -1))\n",
        "\n",
        "        return result[0]\n",
        "\n",
        "    @staticmethod\n",
        "    def generate_random_matrix(size, min_value=0, max_value=100):\n",
        "        matrix = np.random.randint(min_value, high=max_value + 1, size=(size, size))\n",
        "        return matrix\n",
        "\n",
        "    def generate_matrix_from_eigen(self, values, matrix):\n",
        "        matrix = matrix.copy().T\n",
        "        if (len(values) != matrix.shape[0]):\n",
        "            return\n",
        "        M = np.diag(np.array(values))\n",
        "        S_inv = np.linalg.inv(matrix)\n",
        "        return matrix @ M @ S_inv\n",
        "\n",
        "    def generate_symmetric_matrix(self, size, min_value=0, max_value=10):\n",
        "        a = np.random.randint(min_value, max_value, (size,size))\n",
        "        result = np.tril(a) + np.tril(a, -1).T\n",
        "        return result\n",
        "\n",
        "    def stop_moment(self, matrix):\n",
        "        x = [matrix[i, j] ** 2 for j in range(matrix.shape[0]) for i in range(matrix.shape[0]) if i != j]\n",
        "        #print(x)\n",
        "        return sum(x)\n",
        "\n",
        "    def max_non_diagonal(self, matrix):\n",
        "        n = len(matrix)\n",
        "        aMax = 0.0\n",
        "        for i in range(n-1):\n",
        "            for j in range(i+1,n):\n",
        "                if abs(matrix[i,j]) > aMax:\n",
        "                    aMax = abs(matrix[i,j])\n",
        "                    k = i; l = j\n",
        "        return k,l\n",
        "\n",
        "    def jacobi(self, matrix, eps=1e-4):\n",
        "        it = 0\n",
        "        a = matrix.copy()\n",
        "        u_al = np.eye(a.shape[0])\n",
        "\n",
        "        while self.stop_moment(a) >= eps:\n",
        "\n",
        "            it += 1\n",
        "            u = np.eye(a.shape[0])\n",
        "\n",
        "            i, j = self.max_non_diagonal(a)\n",
        "\n",
        "            phi = atan(2 * a[i, j] / (a[i,i] - a[j,j])) / 2\n",
        "            u[i, [i, j]],u[j, [i, j]] = [cos(phi), - sin(phi)], [sin(phi), cos(phi)]\n",
        "\n",
        "            u_al = u_al @ u\n",
        "            a = u.T @ a @ u\n",
        "\n",
        "            #print(f'\\n Iteration {it}:  \\n'\n",
        "            #   f'\\tt(matrix) = {stop_moment(a)}.\\n')\n",
        "\n",
        "\n",
        "        return np.diag(a), u_al\n",
        "\n",
        "    def check_symmetric(self, a, rtol=1e-05, atol=1e-08):\n",
        "        return np.allclose(a, a.T, rtol=rtol, atol=atol)"
      ],
      "metadata": {
        "id": "B4hF9Pgi1jd2"
      },
      "execution_count": null,
      "outputs": []
    },
    {
      "cell_type": "markdown",
      "source": [
        "# Testing"
      ],
      "metadata": {
        "id": "Ju8xLJPzopep"
      }
    },
    {
      "cell_type": "code",
      "source": [
        "gen = web_graph_generator()"
      ],
      "metadata": {
        "id": "zz0QYOR9PFes"
      },
      "execution_count": null,
      "outputs": []
    },
    {
      "cell_type": "code",
      "source": [
        "solver = solver()"
      ],
      "metadata": {
        "id": "QGwGLVzK-G2y"
      },
      "execution_count": null,
      "outputs": []
    },
    {
      "cell_type": "markdown",
      "source": [
        "## PageRank"
      ],
      "metadata": {
        "id": "5I3_7FKy0xDl"
      }
    },
    {
      "cell_type": "code",
      "source": [
        "matrix = gen.generate_web_graph(15)\n",
        "matrix"
      ],
      "metadata": {
        "id": "nu_Yyf4NoHNe"
      },
      "execution_count": null,
      "outputs": []
    },
    {
      "cell_type": "code",
      "source": [
        "gen.draw_classic(matrix)"
      ],
      "metadata": {
        "id": "mHCaf8EPrGqm"
      },
      "execution_count": null,
      "outputs": []
    },
    {
      "cell_type": "code",
      "source": [
        "gen.draw_size_dependent(matrix)"
      ],
      "metadata": {
        "id": "YgTKEV-YeiL6"
      },
      "execution_count": null,
      "outputs": []
    },
    {
      "cell_type": "code",
      "source": [
        "matrix_A = gen.generate_matrix_A(matrix)\n",
        "matrix_A"
      ],
      "metadata": {
        "id": "RONZ1szNY3K3"
      },
      "execution_count": null,
      "outputs": []
    },
    {
      "cell_type": "code",
      "source": [
        "pagerank_matrix = solver.pagerank(matrix)\n",
        "print(*pagerank_matrix)"
      ],
      "metadata": {
        "id": "jgq3Fmh7-ONY"
      },
      "execution_count": null,
      "outputs": []
    },
    {
      "cell_type": "code",
      "source": [
        "print(*[prob for prob in nx.pagerank(nx.DiGraph(matrix)).values()])"
      ],
      "metadata": {
        "id": "wvtz7QNl9Ek1"
      },
      "execution_count": null,
      "outputs": []
    },
    {
      "cell_type": "code",
      "source": [
        "gen.draw_pagerank(matrix, pagerank_matrix)"
      ],
      "metadata": {
        "id": "W92yXJGUmXel"
      },
      "execution_count": null,
      "outputs": []
    },
    {
      "cell_type": "markdown",
      "source": [
        "## Jacobi eigenvalue algorithm"
      ],
      "metadata": {
        "id": "5Du6c72c03Qc"
      }
    },
    {
      "cell_type": "code",
      "source": [
        "test_matr = np.matrix([[2, -1, 0, 0],[-1, 2, -1, 0],[0, -1, 2, -1],[0,0, -1, 2]])\n",
        "print(test_matr)\n",
        "\n",
        "module_result = np.linalg.eig(test_matr)\n",
        "print(\"np.linalg.eig:\\n\", *module_result[0])\n",
        "print(\"np.linalg.eig EigenVectors:\\n\", module_result[1])\n",
        "\n",
        "jacobi_result = solver.jacobi(test_matr)\n",
        "print(\"Jacobi:\\n\", *jacobi_result[0])\n",
        "print(\"Jacobi Eigenvectors:\\n\", jacobi_result[1])"
      ],
      "metadata": {
        "id": "6wKY-EX6w8Tm"
      },
      "execution_count": null,
      "outputs": []
    },
    {
      "cell_type": "code",
      "source": [
        "symetric = solver.generate_symmetric_matrix(size=5)\n",
        "print(symetric)\n",
        "\n",
        "module_result = np.linalg.eig(symetric)\n",
        "print(\"np.linalg.eig:\\n\", *module_result[0])\n",
        "print(\"np.linalg.eig EigenVectors:\\n\", module_result[1])\n",
        "jacobi_result = solver.jacobi(symetric)\n",
        "print(\"Jacobi:\\n\", *jacobi_result[0])\n",
        "print(\"Jacobi Eigenvectors:\\n\", jacobi_result[1])\n"
      ],
      "metadata": {
        "id": "jx9-bd7ErQzm"
      },
      "execution_count": null,
      "outputs": []
    },
    {
      "cell_type": "markdown",
      "source": [
        "## N-eigenvalue + N-eigenvectors"
      ],
      "metadata": {
        "id": "b7DZ4-k2v_3Q"
      }
    },
    {
      "cell_type": "code",
      "source": [
        "test_matrix = solver.generate_matrix_from_eigen([1,3,1,1,1], solver.generate_random_matrix(5))\n",
        "test_matrix"
      ],
      "metadata": {
        "id": "icq-xU7elFw3"
      },
      "execution_count": null,
      "outputs": []
    },
    {
      "cell_type": "code",
      "source": [
        "cnt = 0\n",
        "for i in range(10000):\n",
        "    try:\n",
        "        eigen_value = np.random.randint(0, 10, size=3)\n",
        "        test = solver.generate_matrix_from_eigen(eigen_value, solver.generate_random_matrix(3))\n",
        "        if solver.check_symmetric(test) :\n",
        "            cnt += 1\n",
        "            # if cnt == 1:\n",
        "            #     print(eigen_value)\n",
        "            #     print(solver.jacobi(test))\n",
        "    except:\n",
        "        continue\n",
        "\n",
        "print(cnt)"
      ],
      "metadata": {
        "id": "za5S_MdlvlN6"
      },
      "execution_count": null,
      "outputs": []
    }
  ]
}