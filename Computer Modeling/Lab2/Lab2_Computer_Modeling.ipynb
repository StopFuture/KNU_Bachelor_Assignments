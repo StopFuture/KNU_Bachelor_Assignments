{
  "nbformat": 4,
  "nbformat_minor": 0,
  "metadata": {
    "colab": {
      "provenance": []
    },
    "kernelspec": {
      "name": "python3",
      "display_name": "Python 3"
    },
    "language_info": {
      "name": "python"
    }
  },
  "cells": [
    {
      "cell_type": "markdown",
      "source": [
        "Task 1\n"
      ],
      "metadata": {
        "id": "ZKcnnjKXITwI"
      }
    },
    {
      "cell_type": "code",
      "source": [
        "from sympy import symbols, diff, lambdify, Abs\n",
        "\n",
        "x = symbols('x')\n",
        "f = x**4\n",
        "\n",
        "f_prime = diff(f, x)\n",
        "f_third = diff(f_prime, x, x)\n",
        "\n",
        "f_lambdified = lambdify(x, f)\n",
        "f_prime_lambdified = lambdify(x, f_prime)\n",
        "f_third_lambdified = lambdify(x, f_third)\n",
        "\n",
        "a, b = 0, 1\n",
        "x1 = 0.5\n",
        "h = 0.1\n",
        "\n",
        "f_2 = f_lambdified(x1 + h)\n",
        "f_0 = f_lambdified(x1 - h)\n",
        "actual_f_prime = f_prime_lambdified(x1)\n",
        "\n",
        "central_diff = (f_2 - f_0) / (2 * h)\n",
        "\n",
        "M_3 = max(abs(f_third_lambdified(a)), abs(f_third_lambdified(b)))\n",
        "\n",
        "error_bound = (M_3 * h**2) / 6\n",
        "\n",
        "actual_error = Abs(actual_f_prime - central_diff)\n",
        "\n",
        "results = {\n",
        "    'f_prime(x1)': actual_f_prime,\n",
        "    'Central Difference Approximation': central_diff,\n",
        "    'Actual Error': actual_error,\n",
        "    'Error Bound': error_bound\n",
        "}\n",
        "results\n"
      ],
      "metadata": {
        "colab": {
          "base_uri": "https://localhost:8080/"
        },
        "id": "D-IMUCROEC2V",
        "outputId": "3d2620a0-d9ec-426e-8495-cb6aea7cc5cf"
      },
      "execution_count": 4,
      "outputs": [
        {
          "output_type": "execute_result",
          "data": {
            "text/plain": [
              "{'f_prime(x1)': 0.5,\n",
              " 'Central Difference Approximation': 0.5199999999999999,\n",
              " 'Actual Error': 0.0199999999999999,\n",
              " 'Error Bound': 0.04000000000000001}"
            ]
          },
          "metadata": {},
          "execution_count": 4
        }
      ]
    },
    {
      "cell_type": "markdown",
      "source": [
        "Task 2"
      ],
      "metadata": {
        "id": "Ll3e9iODIK0y"
      }
    },
    {
      "cell_type": "code",
      "source": [
        "import numpy as np\n",
        "from scipy.optimize import least_squares\n",
        "import matplotlib.pyplot as plt\n",
        "\n",
        "def chebyshev_polys(x):\n",
        "    return [1, x, 2*x**2 - 1, 4*x**3 - 3*x, 8*x**4 - 8*x**2 + 1, 16*x**5 - 20*x**3 + 5*x, 32*x**6 - 48*x**4 + 18*x**2 - 1, 64*x**7 - 112*x**5 + 56*x**3 - 7*x,128*x**8 - 256*x**6 + 160*x**4 - 32*x**2 + 1, 256*x**9 - 576*x**7 + 432*x**5 - 120*x**3 + 9*x]\n",
        "\n",
        "def normalized_chebyshev_polys(x):\n",
        "    T = chebyshev_polys(x)\n",
        "    normalized_T = []\n",
        "    for poly in T:\n",
        "        max_coeff = np.max(np.abs(poly))\n",
        "        normalized_poly = poly / max_coeff if max_coeff != 0 else poly\n",
        "        normalized_T.append(normalized_poly)\n",
        "    return normalized_T\n",
        "\n",
        "def chebyshev_fit(coeffs, x):\n",
        "    T = normalized_chebyshev_polys(x)\n",
        "    return sum(c * Tn for c, Tn in zip(coefficients, T))\n",
        "\n",
        "def residual(coeffs, x, y):\n",
        "    T = normalized_chebyshev_polys(x)\n",
        "    approx = sum(c * Tn for c, Tn in zip(coeffs, T))\n",
        "    return approx - y\n",
        "\n",
        "\n",
        "coeffs = [1, -2, 3, -4, 5]\n",
        "#coeffs = [12, 0, 0, 1, 2, 8, -17]\n",
        "#coeffs = [1, 0, 0, 1]\n",
        "coeffs = [1,1,1,1,1,1,1,1,1,1,1]\n",
        "n = len(coeffs) - 1\n",
        "interval = [0, 1]\n",
        "\n",
        "target_function = Polynomial(coeffs)\n",
        "x_vals = np.linspace(interval[0], interval[1], 1000)\n",
        "y_vals = target_function(x_vals)\n",
        "initial_coeffs = [0]*n\n",
        "coefficients = least_squares(residual, initial_coeffs, args=(x_vals, y_vals)).x\n",
        "\n",
        "\n",
        "\n",
        "fit_vals = chebyshev_fit(coefficients, x_vals)\n",
        "max_residual = np.max(np.abs(y_vals - fit_vals))\n",
        "\n",
        "\n",
        "plt.figure(figsize=(10, 6))\n",
        "plt.plot(x_vals, y_vals, label='Original $f(x)$', color='green')\n",
        "plt.plot(x_vals, fit_vals, label='Approximating Polynomial $P(x)$', linestyle='dotted', color='red')\n",
        "plt.title(\"Comparison\")\n",
        "plt.xlabel(\"x\")\n",
        "plt.ylabel(\"Value\")\n",
        "plt.legend()\n",
        "plt.grid(True)\n",
        "plt.show()\n",
        "\n",
        "print(\"Original Coefficients:\",coeffs , \"\\nMax Residual: \", max_residual, \"\\nApproximating Polynomial Coefficients:\", coefficients)\n"
      ],
      "metadata": {
        "id": "-hqUNftN8-Q2"
      },
      "execution_count": null,
      "outputs": []
    },
    {
      "cell_type": "markdown",
      "source": [
        "Task 3"
      ],
      "metadata": {
        "id": "HsGTPd-tIHl_"
      }
    },
    {
      "cell_type": "code",
      "source": [
        "import numpy as np\n",
        "import matplotlib.pyplot as plt\n",
        "from scipy.integrate import quad\n",
        "\n",
        "def f(x):\n",
        "    return x**(1/3)\n",
        "\n",
        "phi_0 = lambda x: 1\n",
        "phi_1 = lambda x: x\n",
        "\n",
        "phi_0_phi_0 = quad(lambda x: phi_0(x)**2, 0, 1)[0]\n",
        "phi_0_phi_1 = quad(lambda x: phi_0(x)*phi_1(x), 0, 1)[0]\n",
        "phi_1_phi_1 = quad(lambda x: phi_1(x)**2, 0, 1)[0]\n",
        "\n",
        "f_phi_0 = quad(lambda x: f(x)*phi_0(x), 0, 1)[0]\n",
        "f_phi_1 = quad(lambda x: f(x)*phi_1(x), 0, 1)[0]\n",
        "\n",
        "A = np.array([[phi_0_phi_0, phi_0_phi_1], [phi_0_phi_1, phi_1_phi_1]])\n",
        "b = np.array([f_phi_0, f_phi_1])\n",
        "c = np.linalg.solve(A, b)\n",
        "\n",
        "P = lambda x: c[0]*phi_0(x) + c[1]*phi_1(x)\n",
        "\n",
        "\n",
        "mse = quad(lambda x: (f(x) - P(x))**2, 0, 1)[0]\n",
        "\n",
        "x_values = np.linspace(0, 1, 10000)\n",
        "plt.plot(x_values, f(x_values), label='f(x) = $x^{1/3}$', color = \"green\")\n",
        "plt.plot(x_values, P(x_values), label='Best Approximation Polynomial', linestyle='dotted', color = \"red\")\n",
        "plt.xlabel('x')\n",
        "plt.ylabel('y')\n",
        "plt.legend()\n",
        "plt.title('Best Mean Squared Approximation')\n",
        "plt.show()\n",
        "\n",
        "print(\"Coeffs:\", list(c), \"Mean Squared Error:\", mse)\n"
      ],
      "metadata": {
        "id": "LeyOkXU-a-BW"
      },
      "execution_count": null,
      "outputs": []
    }
  ]
}