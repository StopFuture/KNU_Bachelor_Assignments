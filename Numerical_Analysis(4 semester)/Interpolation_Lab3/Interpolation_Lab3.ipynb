{
  "nbformat": 4,
  "nbformat_minor": 0,
  "metadata": {
    "colab": {
      "provenance": [],
      "toc_visible": true
    },
    "kernelspec": {
      "name": "python3",
      "display_name": "Python 3"
    },
    "language_info": {
      "name": "python"
    }
  },
  "cells": [
    {
      "cell_type": "markdown",
      "source": [
        "# Init"
      ],
      "metadata": {
        "id": "H06yzfvlmtQH"
      }
    },
    {
      "cell_type": "code",
      "execution_count": null,
      "metadata": {
        "id": "Ae1rh6CEf5e4"
      },
      "outputs": [],
      "source": [
        "import numpy as np\n",
        "from numpy.polynomial.polynomial import Polynomial\n",
        "from math import atan, sin, cos\n",
        "import matplotlib.pyplot as plt\n",
        "import random\n",
        "import warnings\n",
        "warnings.filterwarnings('ignore')"
      ]
    },
    {
      "cell_type": "markdown",
      "source": [
        "#  Main\n"
      ],
      "metadata": {
        "id": "Fbykoe6fmwPz"
      }
    },
    {
      "cell_type": "markdown",
      "source": [
        "## Base_Init"
      ],
      "metadata": {
        "id": "aXlTxWseMPLL"
      }
    },
    {
      "cell_type": "code",
      "source": [
        "def generate_x(a, b, n):\n",
        "    h = (b - a) / n\n",
        "    result = []\n",
        "    for i in range(n + 1):\n",
        "        result.append(a + h * i)\n",
        "    x = np.array(result)\n",
        "    return x\n",
        "\n",
        "def y_function(x):\n",
        "    return x * np.sin(3*x)"
      ],
      "metadata": {
        "id": "T9_TdKSULBzE"
      },
      "execution_count": null,
      "outputs": []
    },
    {
      "cell_type": "code",
      "source": [
        "a = -10\n",
        "b = 5\n",
        "n = 30\n",
        "x = generate_x(a,b,n)"
      ],
      "metadata": {
        "id": "TCbhA47uMVcM"
      },
      "execution_count": null,
      "outputs": []
    },
    {
      "cell_type": "markdown",
      "source": [
        "## Lagrange"
      ],
      "metadata": {
        "id": "XQ-Jw9jTL9AM"
      }
    },
    {
      "cell_type": "code",
      "source": [
        "class Lagrange:\n",
        "    def __init__(self):\n",
        "        pass\n",
        "\n",
        "    def polinom(self, x, y):\n",
        "        x_count = x.shape[0]\n",
        "        L = Polynomial([0], [-1, 1], [-1, 1])\n",
        "        cache = []\n",
        "        base = np.eye(x_count)\n",
        "        for i, curr_x in enumerate(x):\n",
        "            cache.append(Polynomial([-curr_x, 1], [-1, 1], [-1, 1]))\n",
        "            for j, curr_x_2 in enumerate(x):\n",
        "                if i == j:\n",
        "                    continue\n",
        "                base[i, j] = curr_x - curr_x_2\n",
        "        for i, curr_x in enumerate(x):\n",
        "            # if i == x_count - 1:\n",
        "            #     return L\n",
        "            bot = np.prod(base[i, :])\n",
        "            temp = y[i] / bot\n",
        "            for j in range(x_count):\n",
        "                if i == j:\n",
        "                    continue\n",
        "                temp *= cache[j]\n",
        "            L += temp\n",
        "        return L"
      ],
      "metadata": {
        "id": "7JPpgBPRSpNM"
      },
      "execution_count": null,
      "outputs": []
    },
    {
      "cell_type": "code",
      "source": [
        "lagrange = Lagrange()\n",
        "L = lagrange.polinom(x, y_function(x))\n",
        "L"
      ],
      "metadata": {
        "id": "wMXxTAyoMmC6"
      },
      "execution_count": null,
      "outputs": []
    },
    {
      "cell_type": "markdown",
      "source": [
        "## Newton"
      ],
      "metadata": {
        "id": "LLNOrrQLMEB9"
      }
    },
    {
      "cell_type": "code",
      "source": [
        "class Newton:\n",
        "    def __init__(self):\n",
        "        pass\n",
        "\n",
        "    def polinom(self, x, y):\n",
        "        x_count = x.shape[0]\n",
        "        div_diffs = np.zeros((x_count, x_count))\n",
        "        div_diffs[:, 0] = y\n",
        "        for j in range(1, x_count):\n",
        "            for i in range(x_count - j):\n",
        "                div_diffs[i, j] = (div_diffs[i + 1, j - 1] - div_diffs[i, j - 1]) / (x[i + j] - x[i])\n",
        "        N = div_diffs[0, 0]\n",
        "        for i in range(1, x_count):\n",
        "            temp = div_diffs[0, i]\n",
        "            for j in range(i):\n",
        "                temp *= Polynomial([-x[j], 1])\n",
        "            N += temp\n",
        "        return N"
      ],
      "metadata": {
        "id": "k63BEhodOrNG"
      },
      "execution_count": null,
      "outputs": []
    },
    {
      "cell_type": "code",
      "source": [
        "newton = Newton()\n",
        "N = newton.polinom(x, y_function(x))\n",
        "N"
      ],
      "metadata": {
        "id": "GcAEyFzGMe2i"
      },
      "execution_count": null,
      "outputs": []
    },
    {
      "cell_type": "markdown",
      "source": [
        "## CubicSpline"
      ],
      "metadata": {
        "id": "3mmaTMHML-n1"
      }
    },
    {
      "cell_type": "code",
      "source": [
        "class CubicSpline:\n",
        "    def __init__(self, x, funcs):\n",
        "        self.ranges = x\n",
        "        self.funcs = funcs\n",
        "\n",
        "    def __call__(self, value):\n",
        "        for i, r in enumerate(self.ranges):\n",
        "            if r > value:\n",
        "                return self.funcs[i - 1](value)\n",
        "\n",
        "def thomas_tridiagonal(matrix, f):\n",
        "    size = matrix.shape[0]\n",
        "\n",
        "    c = -np.diag(matrix)\n",
        "    a = np.diag(matrix, k=-1)\n",
        "    b = np.diag(matrix, k=1)\n",
        "    alpha_i = b[0] / c[0]\n",
        "\n",
        "    beta_i = -f[0] / c[0]\n",
        "    alpha = [alpha_i]\n",
        "    beta = [beta_i]\n",
        "\n",
        "    x = np.zeros(size)\n",
        "    for i in range(1, size - 1):\n",
        "        z_i = c[i] - alpha_i * a[i - 1]\n",
        "\n",
        "        beta_i = (-f[i] + a[i - 1] * beta_i) / z_i\n",
        "        beta.append(beta_i)\n",
        "\n",
        "        alpha_i = b[i] / z_i\n",
        "        alpha.append(alpha_i)\n",
        "\n",
        "    z_i = c[-1] - alpha_i * a[-1]\n",
        "\n",
        "    x[-1] = (-f[-1] + a[-1] * beta_i) / z_i\n",
        "    for i in range(size - 2, -1, -1):\n",
        "        x[i] = x[i + 1] * alpha[i] + beta[i]\n",
        "    return x\n",
        "\n",
        "def cubic_spline(x, y, h):\n",
        "    x_count = x.shape[0] - 1\n",
        "    A_shape = (x_count - 1, x_count - 1)\n",
        "    A = np.zeros(A_shape)\n",
        "    A += np.diag([(2 * h) / 3] * (x_count - 1))\n",
        "    ul_diags = [h / 6] * (x_count - 2)\n",
        "    A += np.diag(ul_diags, -1)\n",
        "    A += np.diag(ul_diags, 1)\n",
        "    H_shape = (x_count - 1, x_count + 1)\n",
        "    H = np.zeros(H_shape)\n",
        "    H[:, :x_count - 1] += np.diag([1 / h] * (x_count - 1))\n",
        "    H[:, 1:x_count] += np.diag([-2 / h] * (x_count - 1))\n",
        "    H[:, 2:x_count + 1] += np.diag([1 / h] * (x_count - 1))\n",
        "    f = H @ y.T\n",
        "    m = thomas_tridiagonal(A, f)\n",
        "    M = np.zeros(x_count + 1)\n",
        "    M[1:-1] = m\n",
        "    result = CubicSpline(np.zeros(x_count), [])\n",
        "    result.ranges = x.copy()\n",
        "    for i, curr_x in enumerate(x):\n",
        "        if i == 0:\n",
        "            continue\n",
        "        a = y[i]\n",
        "        d = (M[i] - M[i - 1]) / h\n",
        "        b = (h / 2 * M[i] - h * h / 6 * d + (y[i] - y[i - 1]) / h)\n",
        "        d_x = Polynomial([-curr_x, 1])\n",
        "        s = a + b * d_x + M[i] / 2 * d_x ** 2 + d / 6 * d_x ** 3\n",
        "        result.funcs.append(s)\n",
        "    return result"
      ],
      "metadata": {
        "id": "XK0Q-msYVLhu"
      },
      "execution_count": null,
      "outputs": []
    },
    {
      "cell_type": "code",
      "source": [
        "S = cubic_spline(x, y_function(x), (b - a) / n)\n",
        "step = 0.1\n",
        "border = 0\n",
        "D = np.arange(a - border, b + border + step, step)\n",
        "spline_D = np.arange(a, b + step, step)\n",
        "\n",
        "spline_result = []\n",
        "for x_i in spline_D:\n",
        "    spline_result.append(S(x_i))\n",
        "S.funcs"
      ],
      "metadata": {
        "id": "D1CIP0AmZS-q"
      },
      "execution_count": null,
      "outputs": []
    },
    {
      "cell_type": "markdown",
      "source": [
        "## Plotting"
      ],
      "metadata": {
        "id": "MBUmd31EOaD5"
      }
    },
    {
      "cell_type": "code",
      "source": [
        "plt.scatter(x, y_function(x))\n",
        "y, = plt.plot(D, y_function(D))\n",
        "l_polinom, = plt.plot(D, L(D))\n",
        "n_polinom, = plt.plot(D, N(D))\n",
        "spline, = plt.plot(spline_D, spline_result)\n",
        "\n",
        "y.set_label(\"y = x * sin(3x) \")\n",
        "l_polinom.set_label(\"Lagrange\")\n",
        "n_polinom.set_label(\"Newton\")\n",
        "spline.set_label(\"CubicSpline\")\n",
        "\n",
        "plt.grid(visible=True)\n",
        "plt.xlim(-10,  5)\n",
        "plt.ylim(-10, 10)\n",
        "\n",
        "plt.legend()\n",
        "plt.show()"
      ],
      "metadata": {
        "id": "tJazuVySnMoQ"
      },
      "execution_count": null,
      "outputs": []
    }
  ]
}