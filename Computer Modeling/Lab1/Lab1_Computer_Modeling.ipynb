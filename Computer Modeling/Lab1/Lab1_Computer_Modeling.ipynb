{
  "nbformat": 4,
  "nbformat_minor": 0,
  "metadata": {
    "colab": {
      "provenance": []
    },
    "kernelspec": {
      "name": "python3",
      "display_name": "Python 3"
    },
    "language_info": {
      "name": "python"
    }
  },
  "cells": [
    {
      "cell_type": "code",
      "source": [
        "import math\n",
        "\n",
        "def romberg_integration(f, a, b, n):\n",
        "    h = b - a\n",
        "    R = [[0] * (n+1) for _ in range(n+1)]\n",
        "    R[0][0] = (f(a) + f(b)) * h / 2\n",
        "\n",
        "    for i in range(1, n+1):\n",
        "        h /= 2\n",
        "        R[i][0] = R[i-1][0] / 2 + sum(f(a + j*h) for j in range(1, 2**i, 2)) * h\n",
        "\n",
        "        for k in range(1, i+1):\n",
        "            R[i][k] = (4**k * R[i][k-1] - R[i-1][k-1]) / (4**k - 1)\n",
        "\n",
        "    if n == 4:\n",
        "         for r in R:\n",
        "            print(r)\n",
        "    return R[n][n]\n",
        "\n",
        "def ellipse_arc_length(a, b, accuracy, cnt):\n",
        "    def integrand(t):\n",
        "        return math.sqrt(a**2 * math.sin(t)**2 + b**2 * math.cos(t)**2)\n",
        "\n",
        "    n = 1\n",
        "    previous_result = 0\n",
        "    current_result = romberg_integration(integrand, 0, math.pi/2, n)\n",
        "\n",
        "    while abs(current_result - previous_result) > accuracy and n != cnt:\n",
        "        n += 1\n",
        "        previous_result = current_result\n",
        "        current_result = romberg_integration(integrand, 0, math.pi/2, n)\n",
        "\n",
        "    return current_result\n",
        "\n",
        "# Example usage\n",
        "a = 2\n",
        "b = 3\n",
        "accuracy = 1e-8\n",
        "number_of_steps = 4\n",
        "\n",
        "arc_length = ellipse_arc_length(a, b, accuracy, number_of_steps)\n",
        "print(f\"The length of the ellipse arc with a={a} and b={b} is approximately {4*arc_length:.8f}\")"
      ],
      "metadata": {
        "colab": {
          "base_uri": "https://localhost:8080/"
        },
        "id": "D-IMUCROEC2V",
        "outputId": "c6f6aa52-1233-4d91-931a-ac4d5b24ab4f"
      },
      "execution_count": 13,
      "outputs": [
        {
          "output_type": "stream",
          "name": "stdout",
          "text": [
            "[3.9269908169872414, 0, 0, 0, 0]\n",
            "[3.965875689045382, 3.978837313064762, 0, 0, 0]\n",
            "[3.9663596385164506, 3.966520955006807, 3.9656998644696104, 0, 0]\n",
            "[3.9663598973224192, 3.9663599835910754, 3.96634925216336, 3.966359559904531, 0]\n",
            "[3.966359897322647, 3.966359897322723, 3.9663598915714995, 3.966360060450994, 3.9663600624139215]\n",
            "The length of the ellipse arc with a=2 and b=3 is approximately 15.86544025\n"
          ]
        }
      ]
    },
    {
      "cell_type": "code",
      "source": [
        "import math\n",
        "def simpsons_formula(f, a, b):\n",
        "    h = (b - a) / 2\n",
        "    return (h / 3) * (f(a) + 4 * f((a + b) / 2) + f(b))\n",
        "\n",
        "def approximate_integral(f, a, b, epsilon = 1e-4):\n",
        "    n = 1\n",
        "    previous_result = 0\n",
        "    current_result = simpsons_formula(f, a, b)\n",
        "    while abs(current_result - previous_result) > epsilon:\n",
        "        n *= 2\n",
        "        h = (b - a) / n\n",
        "        previous_result = current_result\n",
        "        current_result = 0\n",
        "        for i in range(n):\n",
        "            x0 = a + i * h\n",
        "            x1 = a + (i + 1) * h\n",
        "            current_result += simpsons_formula(f, x0, x1)\n",
        "\n",
        "    return current_result\n",
        "\n",
        "def g(x):\n",
        "    return 1 + x + x**2 / 2 + x**3 / 6 + x**4 / 24\n",
        "def phi(x):\n",
        "    return (1 + x + x**2 / 2 + x**3 / 6 + x**4 / 24)/(x**(0.5))\n",
        "def psi(x):\n",
        "    return (math.exp(x) - g(x))/ math.sqrt(x)\n",
        "\n",
        "\n",
        "a = 1e-6\n",
        "b = 1\n",
        "approximation_i1 = approximate_integral(phi, a, b)\n",
        "approximation_i2 = approximate_integral(psi, a, b)\n",
        "print(f\"The approximate value of the integral I is: {(approximation_i1 + approximation_i2):.6f}\")\n"
      ],
      "metadata": {
        "colab": {
          "base_uri": "https://localhost:8080/"
        },
        "id": "xcgh_A1jFbsE",
        "outputId": "71e2ac29-16e1-43fc-9a2b-566a3cd640b5"
      },
      "execution_count": 28,
      "outputs": [
        {
          "output_type": "stream",
          "name": "stdout",
          "text": [
            "The approximate value of the integral I is: 2.923308\n"
          ]
        }
      ]
    },
    {
      "cell_type": "code",
      "source": [
        "import numpy as np\n",
        "\n",
        "def f(x):\n",
        "    return np.arctan(x) / (1 + x**3)\n",
        "\n",
        "def simpsons_rule(a, b, n):\n",
        "    h = (b - a) / n\n",
        "    x = np.linspace(a, b, n + 1)\n",
        "    y = f(x)\n",
        "    return h / 3 * (y[0] + 4 * np.sum(y[1:-1:2]) + 2 * np.sum(y[2:-2:2]) + y[-1])\n",
        "\n",
        "def runge_estimation(I_h, I_h_half, n = 5):\n",
        "    return np.abs(I_h_half - I_h) / (n ** 2 - 1)\n",
        "\n",
        "\n",
        "precision = 1e-5\n",
        "a = 0\n",
        "b = 1  # initial upper limit\n",
        "n = 10\n",
        "\n",
        "\n",
        "I_h = simpsons_rule(a, b, n)\n",
        "while True:\n",
        "    b *= 2\n",
        "    n *= 2\n",
        "    I_h_half = simpsons_rule(a, b, n)\n",
        "    estimated_error = runge_estimation(I_h, I_h_half)\n",
        "    if estimated_error < precision :\n",
        "        break\n",
        "    I_h = I_h_half\n",
        "\n",
        "print(\"Approximated integral:\", I_h_half)\n",
        "print(\"Estimated error:\", estimated_error)\n",
        "print(\"Upper limit of integration:\", b)\n"
      ],
      "metadata": {
        "colab": {
          "base_uri": "https://localhost:8080/"
        },
        "id": "wJjojxAdNP5R",
        "outputId": "323d0771-b68c-469f-deb3-9f27edf72fbf"
      },
      "execution_count": 121,
      "outputs": [
        {
          "output_type": "stream",
          "name": "stdout",
          "text": [
            "Approximated integral: 0.719026218439031\n",
            "Estimated error: 5.9457440799252454e-06\n",
            "Upper limit of integration: 128\n"
          ]
        }
      ]
    }
  ]
}