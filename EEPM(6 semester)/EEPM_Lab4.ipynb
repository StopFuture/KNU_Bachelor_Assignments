{
  "cells": [
    {
      "cell_type": "markdown",
      "source": [
        "# V1\n"
      ],
      "metadata": {
        "id": "nZje40PdgK9J"
      }
    },
    {
      "cell_type": "code",
      "execution_count": null,
      "metadata": {
        "id": "YBhfZCOjd5_f"
      },
      "outputs": [],
      "source": [
        "import numpy as np\n",
        "import sympy as sp\n",
        "import plotly.express as px\n",
        "from scipy.integrate import solve_ivp\n",
        "\n",
        "from sklearn.preprocessing import PolynomialFeatures\n",
        "from sklearn.linear_model import LinearRegression\n",
        "from sklearn.metrics import r2_score\n",
        "from scipy.optimize import fsolve\n",
        "from scipy.misc import derivative\n",
        "\n",
        "import warnings\n",
        "warnings.filterwarnings('ignore')\n"
      ]
    },
    {
      "cell_type": "markdown",
      "metadata": {
        "id": "LKEWw0Zcd5_g"
      },
      "source": [
        "## 1.1"
      ]
    },
    {
      "cell_type": "code",
      "execution_count": null,
      "metadata": {
        "id": "O2ZEVeg-d5_g"
      },
      "outputs": [],
      "source": [
        "beta = 107.1\n",
        "delta = 100\n",
        "p = 0.1\n",
        "\n",
        "N = sp.symbols('N')\n",
        "\n",
        "eq = beta * N**2 / (1 + N) - delta * N - p * N ** 2\n",
        "f = sp.lambdify(N, eq, \"numpy\")\n",
        "\n",
        "equilibrium_points = sp.solve(eq, N)\n",
        "\n",
        "print(equilibrium_points)\n",
        "\n",
        "X = np.linspace(0, 80, 200)\n",
        "fig = px.line(x=X, y=f(X))\n",
        "fig.show()"
      ]
    },
    {
      "cell_type": "code",
      "execution_count": null,
      "metadata": {
        "id": "8yMVCPDLd5_h",
        "collapsed": true
      },
      "outputs": [],
      "source": [
        "def dN_dt(t, N):\n",
        "    return 107.1 * N**2 / (1 + N) - 100 * N - 0.1 * N ** 2\n",
        "\n",
        "N0 = [0.1, 0.3, 0.4, 0.6, 0.8, 1.0, 1.5, 2]\n",
        "N0 = [10, 15, 24, 55, 60, 80, 100, 150]\n",
        "t_span = (0, 1)\n",
        "t_eval = np.linspace(t_span[0], t_span[1], (t_span[1] - t_span[0] + 1) * 100)\n",
        "\n",
        "sols = [solve_ivp(dN_dt, t_span, [N0_i], t_eval=t_eval, method='RK45') for N0_i in N0]\n",
        "\n",
        "data = {\n",
        "    'Time (t)': np.concatenate([s.t for s in sols]),\n",
        "    'N(t)': np.concatenate([s.y[0] for s in sols]),\n",
        "    'Condition': ['N0 = ' + str(N0_i) for N0_i in N0 for _ in range(len(t_eval))]\n",
        "}\n",
        "\n",
        "fig = px.line(data, x='Time (t)', y='N(t)', color='Condition',\n",
        "              title='Solutions of the Differential Equation',\n",
        "              labels={'Time (t)': 'Time (t)', 'N(t)': 'N(t)', 'Condition': 'Initial Condition'})\n",
        "\n",
        "fig.show()\n"
      ]
    },
    {
      "cell_type": "markdown",
      "metadata": {
        "id": "TiYKxtRyd5_i"
      },
      "source": [
        "## 1.2"
      ]
    },
    {
      "cell_type": "code",
      "execution_count": null,
      "metadata": {
        "id": "j6CKq2x-d5_i",
        "collapsed": true
      },
      "outputs": [],
      "source": [
        "def dN_dt(t, N):\n",
        "    return -0.0004 * N**2 + 0.06 * N\n",
        "\n",
        "N0_first = 20\n",
        "N0_second = 300\n",
        "\n",
        "t_span = (0, 100)\n",
        "t_eval = np.linspace(t_span[0], t_span[1], (t_span[1] - t_span[0] + 1))\n",
        "\n",
        "sol_first = solve_ivp(dN_dt, t_span, [N0_first], t_eval=t_eval, method='RK45')\n",
        "\n",
        "sol_second = solve_ivp(dN_dt, t_span, [N0_second], t_eval=t_eval, method='RK45')\n",
        "\n",
        "data = {\n",
        "    'Time (t)': np.concatenate((sol_first.t, sol_second.t)),\n",
        "    'N(t)': np.concatenate((sol_first.y[0], sol_second.y[0])),\n",
        "    'Condition': ['N0 = 20']*len(sol_first.t) + ['N0 = 300']*len(sol_second.t)\n",
        "}\n",
        "\n",
        "fig = px.line(data, x='Time (t)', y='N(t)', color='Condition',\n",
        "              title='Solutions of the Differential Equation with Different Initial Conditions',\n",
        "              labels={'Time (t)': 'Time (t)', 'N(t)': 'N(t)', 'Condition': 'Initial Condition'})\n",
        "\n",
        "fig.show()\n",
        "print(sol_first.y[0][40])\n",
        "print(sol_second.y[0][40])"
      ]
    },
    {
      "cell_type": "code",
      "execution_count": null,
      "metadata": {
        "id": "_mNeS67td5_j",
        "collapsed": true
      },
      "outputs": [],
      "source": [
        "N = sp.symbols('N')\n",
        "\n",
        "eq = -0.0004 * N**2 + 0.06 * N\n",
        "\n",
        "equilibrium_points = sp.solve(eq, N)\n",
        "\n",
        "equilibrium_points\n"
      ]
    },
    {
      "cell_type": "markdown",
      "metadata": {
        "id": "01eR_fcrd5_j"
      },
      "source": [
        "# 2\n",
        "\n"
      ]
    },
    {
      "cell_type": "code",
      "execution_count": null,
      "metadata": {
        "id": "4Qx4LPD8d5_j",
        "collapsed": true
      },
      "outputs": [],
      "source": [
        "import numpy as np\n",
        "import pandas as pd\n",
        "from scipy.integrate import solve_ivp\n",
        "import plotly.express as px\n",
        "import matplotlib.pyplot as plt\n",
        "\n",
        "def model(t, y):\n",
        "    N1, N2 = y\n",
        "    dN1_dt = 1 * N1 - 0.2 * N1 * N2 - 0.1 * N1**2\n",
        "    dN2_dt = 1 * N2 - 0.3 * N1 * N2 - 0.1 * N2**2\n",
        "    return [dN1_dt, dN2_dt]\n",
        "\n",
        "N1_initial = 10\n",
        "N2_initial = 5\n",
        "initial_conditions = [N1_initial, N2_initial]\n",
        "t_span = (0, 20)\n",
        "t_eval = np.linspace(t_span[0], t_span[1], 400)\n",
        "\n",
        "sol = solve_ivp(model, t_span, initial_conditions, t_eval=t_eval, method='RK45')\n",
        "\n",
        "data = {\n",
        "    'Time': np.concatenate((sol.t, sol.t)),\n",
        "    'Population': np.concatenate((sol.y[0], sol.y[1])),\n",
        "    'Species': ['Species 1']*len(sol.t) + ['Species 2']*len(sol.t)\n",
        "}\n",
        "\n",
        "df = pd.DataFrame(data)\n",
        "\n",
        "fig = px.line(df, x='Time', y='Population', color='Species',\n",
        "              title='Neutral Population Dynamics of Two Species',\n",
        "              labels={'Population': 'Population Size', 'Time': 'Time'},\n",
        "              line_shape='spline')\n",
        "\n",
        "fig.show()\n"
      ]
    },
    {
      "cell_type": "code",
      "execution_count": null,
      "metadata": {
        "id": "OeaaG9pXd5_k"
      },
      "outputs": [],
      "source": [
        "N1, N2 = sp.symbols('N1 N2')\n",
        "\n",
        "eq1 = 1 - 0.2 * N2 - 0.1 * N1\n",
        "eq2 = 1 - 0.3 * N1 - 0.1 * N2\n",
        "\n",
        "equilibrium_points = sp.solve([eq1, eq2], (N1, N2))\n",
        "equilibrium_points"
      ]
    },
    {
      "cell_type": "code",
      "execution_count": null,
      "metadata": {
        "id": "3yujILakd5_k",
        "collapsed": true
      },
      "outputs": [],
      "source": [
        "\n",
        "x_values = np.linspace(-5, 20, 25)\n",
        "y_values = np.linspace(-5, 20, 25)\n",
        "X, Y = np.meshgrid(x_values, y_values)\n",
        "\n",
        "U, V = np.zeros(X.shape), np.zeros(Y.shape)\n",
        "for i in range(X.shape[0]):\n",
        "    for j in range(X.shape[1]):\n",
        "        rate = model(0, [X[i, j], Y[i, j]])\n",
        "        U[i, j] = rate[0]\n",
        "        V[i, j] = rate[1]\n",
        "\n",
        "plt.quiver(X, Y, U, V, color='gray')\n",
        "\n",
        "initial_conditions = [\n",
        "    (10, 5), (5, 10), (15, 15), (1, 1), (19, 1)\n",
        "]\n",
        "t_span = (-5, 20)\n",
        "t_eval = np.linspace(t_span[0], t_span[1], 300)\n",
        "\n",
        "for ic in initial_conditions:\n",
        "    sol = solve_ivp(model, t_span, ic, t_eval=t_eval)\n",
        "    plt.plot(sol.y[0], sol.y[1], label=f'N1_0={ic[0]}, N2_0={ic[1]}')\n",
        "\n",
        "plt.scatter([4], [2], color='red', s=10, zorder=5, label='Equilibrium')\n",
        "\n",
        "plt.title('Phase Plane')\n",
        "plt.xlabel('Population of Species 1 (N1)')\n",
        "plt.ylabel('Population of Species 2 (N2)')\n",
        "plt.legend()\n",
        "plt.grid(True)\n",
        "plt.xlim([-5, 20])\n",
        "plt.ylim([-5, 20])\n",
        "plt.show()\n"
      ]
    },
    {
      "cell_type": "code",
      "execution_count": null,
      "metadata": {
        "id": "HWMp1V-9d5_l"
      },
      "outputs": [],
      "source": [
        "N1, N2 = sp.symbols('N1 N2')\n",
        "\n",
        "dN1_dt = N1 - 0.1 * N1 * N2 - 0.2 * N1**2\n",
        "dN2_dt = N2 - 0.1 * N1 * N2 - 0.3 * N2**2\n",
        "\n",
        "f = sp.Matrix([dN1_dt, dN2_dt])\n",
        "\n",
        "variables = sp.Matrix([N1, N2])\n",
        "\n",
        "Jacobian = f.jacobian(variables)\n",
        "\n",
        "print(\"Jacobian Matrix:\")\n",
        "sp.pprint(Jacobian)\n",
        "\n",
        "N1_val, N2_val = 2, 4\n",
        "Jacobian_evaluated = Jacobian.subs({N1: N1_val, N2: N2_val})\n",
        "\n",
        "print(\"Jacobian evaluated at (N1=8, N2=6):\")\n",
        "sp.pprint(Jacobian_evaluated)\n"
      ]
    },
    {
      "cell_type": "code",
      "execution_count": null,
      "metadata": {
        "id": "d2esGKLSd5_m"
      },
      "outputs": [],
      "source": [
        "import numpy as np\n",
        "\n",
        "J = np.array([[-1.6, 0.8], [0.6, -1.8]])\n",
        "eigenvalues = np.linalg.eigvals(J)\n",
        "print(f\"Стійкий вузол: {eigenvalues}\")\n",
        "\n"
      ]
    }
  ],
  "metadata": {
    "kernelspec": {
      "display_name": "Python 3",
      "language": "python",
      "name": "python3"
    },
    "language_info": {
      "codemirror_mode": {
        "name": "ipython",
        "version": 3
      },
      "file_extension": ".py",
      "mimetype": "text/x-python",
      "name": "python",
      "nbconvert_exporter": "python",
      "pygments_lexer": "ipython3",
      "version": "3.10.6"
    },
    "colab": {
      "provenance": []
    }
  },
  "nbformat": 4,
  "nbformat_minor": 0
}