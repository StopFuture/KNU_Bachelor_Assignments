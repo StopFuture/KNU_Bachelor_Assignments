{
  "nbformat": 4,
  "nbformat_minor": 0,
  "metadata": {
    "colab": {
      "provenance": []
    },
    "kernelspec": {
      "name": "python3",
      "display_name": "Python 3"
    },
    "language_info": {
      "name": "python"
    }
  },
  "cells": [
    {
      "cell_type": "markdown",
      "source": [
        "# Init"
      ],
      "metadata": {
        "id": "ez9rqGnPnmDp"
      }
    },
    {
      "cell_type": "code",
      "source": [
        "from uuid import uuid4\n",
        "import json\n",
        "import hashlib\n",
        "from datetime import datetime"
      ],
      "metadata": {
        "id": "flnRmwZ6nRBL"
      },
      "execution_count": null,
      "outputs": []
    },
    {
      "cell_type": "code",
      "source": [
        "class Transaction:\n",
        "    def __init__(self, from_person, to_person, amount: int):\n",
        "        self.id = str(uuid4())\n",
        "        self.from_person = from_person\n",
        "        self.to_person = to_person\n",
        "        self.amount = amount\n",
        "\n",
        "    def __repr__(self):\n",
        "        return {\n",
        "            \"transaction_id\": self.id,\n",
        "            \"from_person\": self.from_person.id,\n",
        "            \"to_person\": self.to_person.id,\n",
        "            \"amount\": self.amount\n",
        "        }\n",
        "\n"
      ],
      "metadata": {
        "id": "RlpPVdAjnSax"
      },
      "execution_count": null,
      "outputs": []
    },
    {
      "cell_type": "code",
      "source": [
        "class Block:\n",
        "    def __init__(self, transactions: list[Transaction], previous_block=None):\n",
        "        self.previous_block_hash = previous_block.hash if previous_block else None\n",
        "        self.timestamp = (datetime.utcnow()).timestamp()\n",
        "        self.transactions = transactions\n",
        "        self.nonce = 0\n",
        "        self.merkleTree = MerkleTree()\n",
        "        self.fill_tree()\n",
        "        self.hash = self.__hash__()\n",
        "        print(f'Block with hash {self.hash} created')\n",
        "\n",
        "    def __repr__(self):\n",
        "        return {\n",
        "            \"previous_hash\": self.previous_block_hash,\n",
        "            \"transactions\": [transaction.__repr__() for transaction in self.transactions],\n",
        "            \"timestamp\": self.timestamp,\n",
        "            \"nonce\": self.nonce\n",
        "        }\n",
        "\n",
        "    def __hash__(self):\n",
        "        data2hash = f\"{self.previous_block_hash}{self.nonce}{self.merkleTree.root.hash}\" if self.merkleTree.root else f\"{self.previous_block_hash}{self.nonce}\"\n",
        "        return hashlib.sha256(data2hash.encode()).hexdigest()\n",
        "\n",
        "    def fill_tree(self):\n",
        "        for transaction in self.transactions:\n",
        "            self.merkleTree.addNode(json.dumps(transaction.__repr__()))\n",
        "\n",
        "    def validate_proof_of_work(self, DIFF=4):\n",
        "        while True:\n",
        "            if self.hash[:DIFF] == '0' * DIFF:\n",
        "                return True\n",
        "            self.nonce += 1\n",
        "            self.hash = self.__hash__()\n",
        "\n",
        "    def get_block_info(self, clients_data: dict):\n",
        "        for transaction in self.transactions:\n",
        "            for client in [transaction.to_person, transaction.from_person]:\n",
        "                if client.name not in clients_data:\n",
        "                    clients_data[client.name] = {\"current\": client.starting_balance,\n",
        "                                                 \"min\": client.starting_balance,\n",
        "                                                 \"max\": client.starting_balance}\n",
        "\n",
        "            clients_data[transaction.from_person.name]['current'] -= transaction.amount\n",
        "            clients_data[transaction.to_person.name]['current'] += transaction.amount\n",
        "            clients_data[transaction.from_person.name]['min'] = min(clients_data[transaction.from_person.name]['min'],\n",
        "                                                                    clients_data[transaction.from_person.name][\n",
        "                                                                        'current'])\n",
        "            clients_data[transaction.to_person.name]['max'] = max(clients_data[transaction.to_person.name]['max'],\n",
        "                                                                  clients_data[transaction.to_person.name][\n",
        "                                                                      'current'])\n",
        "        return clients_data\n",
        "\n"
      ],
      "metadata": {
        "id": "3aTC84h-nXlx"
      },
      "execution_count": null,
      "outputs": []
    },
    {
      "cell_type": "code",
      "source": [
        "class Blockchain:\n",
        "    def __init__(self, difficulty=4, mxt=3):\n",
        "        self.difficulty = difficulty\n",
        "        self.max_transaction_num = mxt\n",
        "\n",
        "        self.chain: list[Block] = []\n",
        "        self.transactions: list[Transaction] = []\n",
        "        self.merkleTree: MerkleTree = MerkleTree()\n",
        "        self.block_process()\n",
        "\n",
        "    def block_process(self, block: Block = None):\n",
        "        if len(self.chain) == 0:\n",
        "            block = Block([])\n",
        "\n",
        "        block.validate_proof_of_work(self.difficulty)\n",
        "        self.chain.append(block)\n",
        "        self.merkleTree.addNode(block.hash)\n",
        "\n",
        "    def blockchain_root_hash(self):\n",
        "        tree = MerkleTree()\n",
        "        for block in self.chain:\n",
        "            tree.addNode(block.hash)\n",
        "        return tree.root.hash\n",
        "\n",
        "    def validate(self):\n",
        "        if self.blockchain_root_hash() != self.merkleTree.root.hash:\n",
        "            print(\"Invalid root hashes\")\n",
        "            return False\n",
        "        for i in range(1, len(self.chain)):\n",
        "            current_block = self.chain[i]\n",
        "            previous_block = self.chain[i - 1]\n",
        "            if ((current_block.__hash__() != current_block.hash)\n",
        "                    or (current_block.previous_block_hash != previous_block.hash)):\n",
        "                print(\"Invalid block hash\")\n",
        "                return False\n",
        "        return True\n",
        "\n",
        "    def transaction_process(self, transaction: Transaction):\n",
        "        self.transactions.append(transaction)\n",
        "        if len(self.transactions) >= self.max_transaction_num:\n",
        "            block = Block(self.transactions, self.chain[-1])\n",
        "            self.block_process(block)\n",
        "            self.transactions = []\n",
        "\n",
        "    def get_block_info(self, index):\n",
        "        block_position = index\n",
        "        if block_position >= len(self.chain):\n",
        "            print('Block position out of range')\n",
        "            return\n",
        "\n",
        "        client_balances = {}\n",
        "        for i in range(block_position+1):\n",
        "            client_balances = self.chain[i].get_block_info(client_balances)\n",
        "\n",
        "        return client_balances\n"
      ],
      "metadata": {
        "id": "KCeVcGSbnbNF"
      },
      "execution_count": null,
      "outputs": []
    },
    {
      "cell_type": "code",
      "source": [
        "class Client:\n",
        "    def __init__(self, name: str, balance=50):\n",
        "        self.id = str(uuid4())\n",
        "        self.name = name\n",
        "        self.balance = balance\n",
        "        self.starting_balance = balance\n",
        "\n",
        "    def transfer(self, to_person, amount: int):\n",
        "        if amount > self.balance:\n",
        "            print(f\"Cannot make transaction - not enough balance\")\n",
        "            return\n",
        "        if to_person == self:\n",
        "            print('Cannot make transaction to self')\n",
        "            return\n",
        "        if amount < 0:\n",
        "            print(f\"Cannot make negative transaction\")\n",
        "            return\n",
        "        transaction = Transaction(self, to_person, amount)\n",
        "        return transaction\n",
        "\n",
        "    def receive(self, amount: int):\n",
        "        self.balance += amount"
      ],
      "metadata": {
        "id": "yO1n5Elrnc2x"
      },
      "execution_count": null,
      "outputs": []
    },
    {
      "cell_type": "code",
      "source": [
        "class MerkleTree:\n",
        "    def __init__(self):\n",
        "        self.root: Node | None = None\n",
        "        self.leaves: list[Node] = []\n",
        "\n",
        "    def addNode(self, data):\n",
        "        node = Node(data)\n",
        "        self.leaves.append(node)\n",
        "        self.update()\n",
        "\n",
        "    def update(self):\n",
        "        if len(self.leaves) == 0:\n",
        "            self.root = None\n",
        "            return\n",
        "\n",
        "        tree_copy = self.leaves\n",
        "        while len(tree_copy) > 1:\n",
        "            if len(tree_copy) % 2 == 1:\n",
        "                tree_copy.append(Node(self.leaves[-1].hash))\n",
        "            new_node_level = []\n",
        "            for i in range(0, len(tree_copy), 2):\n",
        "                new_node = Node(leftNode=tree_copy[i], rightNode=tree_copy[i + 1])\n",
        "                new_node_level.append(new_node)\n",
        "            tree_copy = new_node_level\n",
        "\n",
        "        self.root = tree_copy[0]\n"
      ],
      "metadata": {
        "id": "virFO_Eqneaj"
      },
      "execution_count": null,
      "outputs": []
    },
    {
      "cell_type": "code",
      "source": [
        "class Node:\n",
        "    def __init__(self, data=None, leftNode=None, rightNode=None):\n",
        "        self.leftNode = leftNode\n",
        "        self.rightNode = rightNode\n",
        "        self.hash = self.hashNode(data)\n",
        "\n",
        "    def hashNode(self, data):\n",
        "        if data is not None:\n",
        "            return hashlib.sha256(data.encode()).hexdigest()\n",
        "        else:\n",
        "            data2hash = self.leftNode.hash + self.rightNode.hash if (self.leftNode and self.rightNode) else ''\n",
        "            return hashlib.sha256(data2hash.encode()).hexdigest()"
      ],
      "metadata": {
        "id": "e7hDeRUCniG1"
      },
      "execution_count": null,
      "outputs": []
    },
    {
      "cell_type": "code",
      "source": [
        "class Network:\n",
        "    def __init__(self):\n",
        "        self.blockchain = Blockchain()\n",
        "        self.clients: list[Client] = []\n",
        "\n",
        "    def add_client(self, client: Client):\n",
        "        client.network = self\n",
        "        self.clients.append(client)\n",
        "\n",
        "    def process_transaction(self, transaction: Transaction):\n",
        "        client = next((client for client in self.clients if client == transaction.to_person), None)\n",
        "        if not client:\n",
        "            print(f'Receiver not found')\n",
        "            return\n",
        "        print(f'Transaction from {transaction.from_person.name} '\n",
        "              f'to {transaction.to_person.name}: {transaction.amount}')\n",
        "        self.blockchain.transaction_process(transaction)\n",
        "        client.receive(transaction.amount)\n",
        "\n",
        "    def save_to_json(self, default_path='blockchain.json'):\n",
        "        print('Saving to json')\n",
        "        with open(default_path, 'w') as f:\n",
        "            json.dump([block.__repr__() for block in self.blockchain.chain], f, indent=4)\n",
        "\n",
        "    def store_data_json(self, default_path='blockchain.json'):\n",
        "        print('Loading fom json')\n",
        "        with open(default_path, 'r') as f:\n",
        "            data = json.load(f)\n",
        "            self.blockchain = Blockchain()\n",
        "            for block_js in data:\n",
        "                transactions = []\n",
        "                for tr in block_js['transactions']:\n",
        "                    sender = next((client for client in self.clients if client.id == tr['from']), None)\n",
        "                    receiver = next((client for client in self.clients if client.id == tr['to']), None)\n",
        "                    transactions.append(Transaction(sender, receiver, tr['amount']))\n",
        "                block = Block(transactions)\n",
        "                block.nonce = block_js['nonce']\n",
        "                block.hash = block.__hash__()\n",
        "                self.blockchain.chain.append(block)\n"
      ],
      "metadata": {
        "id": "sJsPdpaslhwA"
      },
      "execution_count": null,
      "outputs": []
    },
    {
      "cell_type": "markdown",
      "source": [
        "# Demo\n"
      ],
      "metadata": {
        "id": "JgukIurUnpXT"
      }
    },
    {
      "cell_type": "code",
      "source": [
        "network = Network()\n",
        "\n",
        "alice = Client(\"Alice\", balance=60000)\n",
        "bob = Client(\"Bob\", balance=4500)\n",
        "eva = Client(\"Eva\", balance=7500)\n",
        "network.add_client(alice)\n",
        "network.add_client(bob)\n",
        "network.add_client(eva)\n",
        "\n",
        "transactions = [\n",
        "    alice.transfer(bob, 2000),\n",
        "    alice.transfer(eva, 500),\n",
        "    eva.transfer(bob, 100),\n",
        "    bob.transfer(eva, 300),\n",
        "    bob.transfer(alice, 105),\n",
        "    eva.transfer(alice, 1500)\n",
        "]\n",
        "\n"
      ],
      "metadata": {
        "colab": {
          "base_uri": "https://localhost:8080/"
        },
        "id": "9AmuV8u5lxi2",
        "outputId": "16502d5e-b4ae-4505-f3b6-a7d17ac3a858"
      },
      "execution_count": null,
      "outputs": [
        {
          "output_type": "stream",
          "name": "stdout",
          "text": [
            "Block with hash fd2eaf809c4566e52a0e50372d42805536505221ec711ce742d53705fcfc42ba created\n"
          ]
        }
      ]
    },
    {
      "cell_type": "code",
      "source": [
        "print(\"Processing Transactions and Creating Blockchain Blocks:\")\n",
        "for transaction in transactions:\n",
        "    network.process_transaction(transaction)"
      ],
      "metadata": {
        "colab": {
          "base_uri": "https://localhost:8080/"
        },
        "id": "C4G-AdIh4NNS",
        "outputId": "2e3fced6-b2bc-49a4-998d-76823b6d48fd"
      },
      "execution_count": null,
      "outputs": [
        {
          "output_type": "stream",
          "name": "stdout",
          "text": [
            "Processing Transactions and Creating Blockchain Blocks:\n",
            "Transaction from Alice to Bob: 2000\n",
            "Transaction from Alice to Eva: 500\n",
            "Transaction from Eva to Bob: 100\n",
            "Block with hash 951e64b19735aa1db5741ca6b3a9b285c33880b1c53161b913a477303b1cafab created\n",
            "Transaction from Bob to Eva: 300\n",
            "Transaction from Bob to Alice: 105\n",
            "Transaction from Eva to Alice: 1500\n",
            "Block with hash 64ede7d4755cc123084e302a9650351343238517b3085eb8a1da1cd216332638 created\n"
          ]
        }
      ]
    },
    {
      "cell_type": "code",
      "source": [
        "print(\"\\nBlockchain Data Integrity Validation:\")\n",
        "\n",
        "if network.blockchain.validate()\n",
        "     print(\"Validation Successful!\")\n",
        "else\n",
        "    print(\"Validation Error.\")"
      ],
      "metadata": {
        "colab": {
          "base_uri": "https://localhost:8080/"
        },
        "id": "dYriMu1WiyTu",
        "outputId": "76336571-8f8f-4c47-c802-0509a15edea8"
      },
      "execution_count": null,
      "outputs": [
        {
          "output_type": "stream",
          "name": "stdout",
          "text": [
            "\n",
            "Blockchain Data Integrity Validation:\n",
            "Validation Successful!\n"
          ]
        }
      ]
    },
    {
      "cell_type": "code",
      "source": [
        "print(\"\\nProof of Work Validation for First Block:\")\n",
        "if network.blockchain.chain[1].validate_proof_of_work()\n",
        "    print(\"Proof of Work is Valid!\")\n",
        "else\n",
        "    print(\"Proof of Work Error.\")"
      ],
      "metadata": {
        "colab": {
          "base_uri": "https://localhost:8080/"
        },
        "id": "FIod0tR0izfc",
        "outputId": "25baca5b-b7a6-44ca-b947-e955367c992c"
      },
      "execution_count": null,
      "outputs": [
        {
          "output_type": "stream",
          "name": "stdout",
          "text": [
            "\n",
            "Proof of Work Validation for First Block:\n",
            "Proof of Work is Valid!\n"
          ]
        }
      ]
    },
    {
      "cell_type": "code",
      "source": [
        "print(\"\\nDetails of First Block in Blockchain:\")\n",
        "print(network.blockchain.get_block_info(index=1))"
      ],
      "metadata": {
        "colab": {
          "base_uri": "https://localhost:8080/"
        },
        "id": "S1Y5nbUui0aD",
        "outputId": "d9f70cb5-51a0-4c30-a590-424c5e19ff88"
      },
      "execution_count": null,
      "outputs": [
        {
          "output_type": "stream",
          "name": "stdout",
          "text": [
            "\n",
            "Details of First Block in Blockchain:\n",
            "{'Bob': {'current': 6600, 'min': 4500, 'max': 6600}, 'Alice': {'current': 57500, 'min': 57500, 'max': 60000}, 'Eva': {'current': 7900, 'min': 7500, 'max': 8000}}\n"
          ]
        }
      ]
    },
    {
      "cell_type": "code",
      "source": [
        "print(\"\\nSaving Blockchain Data to JSON:\")\n",
        "network.save_to_json()"
      ],
      "metadata": {
        "colab": {
          "base_uri": "https://localhost:8080/"
        },
        "id": "oXItUe6Bi2tg",
        "outputId": "18eafa5d-62a6-4c50-92ea-486a6304fe08"
      },
      "execution_count": null,
      "outputs": [
        {
          "output_type": "stream",
          "name": "stdout",
          "text": [
            "\n",
            "Saving Blockchain Data to JSON:\n",
            "Saving to json\n"
          ]
        }
      ]
    },
    {
      "cell_type": "code",
      "source": [
        "\n",
        "print(\"\\nValidating Data in Reloaded Blockchain:\")\n",
        "print(\"Validation Successful!\") if network.blockchain.validate() else print(\"Validation Error.\")"
      ],
      "metadata": {
        "colab": {
          "base_uri": "https://localhost:8080/"
        },
        "id": "pMEoU-owi4ec",
        "outputId": "b80da1e4-5bf0-49b7-974c-57d859bde170"
      },
      "execution_count": null,
      "outputs": [
        {
          "output_type": "stream",
          "name": "stdout",
          "text": [
            "\n",
            "Validating Data in Reloaded Blockchain:\n",
            "Validation Successful!\n"
          ]
        }
      ]
    }
  ]
}