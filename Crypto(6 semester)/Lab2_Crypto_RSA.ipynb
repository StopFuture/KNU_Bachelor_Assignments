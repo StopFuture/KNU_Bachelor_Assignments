{
  "nbformat": 4,
  "nbformat_minor": 0,
  "metadata": {
    "colab": {
      "provenance": []
    },
    "kernelspec": {
      "name": "python3",
      "display_name": "Python 3"
    },
    "language_info": {
      "name": "python"
    }
  },
  "cells": [
    {
      "cell_type": "markdown",
      "source": [
        "# Main"
      ],
      "metadata": {
        "id": "cxJsTWp_34at"
      }
    },
    {
      "cell_type": "code",
      "source": [
        "import hashlib\n",
        "import timeit\n",
        "import random\n",
        "import math"
      ],
      "metadata": {
        "id": "WFDFsB9tj32I"
      },
      "execution_count": null,
      "outputs": []
    },
    {
      "cell_type": "code",
      "execution_count": null,
      "metadata": {
        "id": "YmONx2yzjpUn"
      },
      "outputs": [],
      "source": [
        "class RSA:\n",
        "    def __init__(self, key_size):\n",
        "        self.prime1 = self.generate_prime(key_size)\n",
        "        self.prime2 = self.generate_prime(key_size)\n",
        "        self.modulus = self.prime1 * self.prime2\n",
        "        self.totient = self.calculate_lcm(self.prime1 - 1, self.prime2 - 1)\n",
        "        self.public_key = self.find_public_key()\n",
        "        self.private_key = self.find_private_key()\n",
        "\n",
        "    def calculate_lcm(self, num1, num2):\n",
        "        return abs(num1 * num2) // math.gcd(num1, num2)\n",
        "\n",
        "    def miller_rabin(self, candidate, rounds=5):\n",
        "        if candidate in (2, 3):\n",
        "            return True\n",
        "        if candidate <= 1 or candidate % 2 == 0:\n",
        "            return False\n",
        "        r, s = 0, candidate - 1\n",
        "        while s % 2 == 0:\n",
        "            r += 1\n",
        "            s //= 2\n",
        "        for _ in range(rounds):\n",
        "            a = random.randrange(2, candidate - 1)\n",
        "            x = pow(a, s, candidate)\n",
        "            if x in (1, candidate - 1):\n",
        "                continue\n",
        "            for _ in range(r - 1):\n",
        "                x = pow(x, 2, candidate)\n",
        "                if x == candidate - 1:\n",
        "                    break\n",
        "            else:\n",
        "                return False\n",
        "        return True\n",
        "\n",
        "    def generate_prime(self, key_size):\n",
        "        while True:\n",
        "            num = random.getrandbits(key_size)\n",
        "            if self.miller_rabin(num):\n",
        "                return num\n",
        "\n",
        "    def find_public_key(self):\n",
        "        e = 2\n",
        "        while self.compute_gcd(e, self.totient) != 1:\n",
        "            e += 1\n",
        "        return e\n",
        "\n",
        "    def find_private_key(self):\n",
        "        d = 2\n",
        "        while (d * self.public_key) % self.totient != 1:\n",
        "            d += 1\n",
        "        return d\n",
        "\n",
        "    def compute_gcd(self, num1, num2):\n",
        "        while num2:\n",
        "            num1, num2 = num2, num1 % num2\n",
        "        return num1\n",
        "\n",
        "    def encrypt_message(self, plaintext):\n",
        "        return [pow(ord(char), self.public_key, self.modulus) for char in plaintext]\n",
        "\n",
        "    def decrypt_message(self, ciphertext):\n",
        "        return ''.join(chr(pow(char, self.private_key, self.modulus)) for char in ciphertext)\n",
        "\n",
        "    def generate_signature(self, message):\n",
        "        hash_digest = int(hashlib.sha1(message.encode()).hexdigest(), 16)\n",
        "        hash_digest &= (1 << key_size) - 1\n",
        "        return pow(hash_digest, self.private_key, self.modulus)\n",
        "\n",
        "    def verify_signature(self, message, signature):\n",
        "        hash_digest = int(hashlib.sha1(message.encode()).hexdigest(), 16)\n",
        "        hash_digest &= (1 << key_size) - 1\n",
        "        decrypted_hash = pow(signature, self.public_key, self.modulus)\n",
        "        return hash_digest == decrypted_hash\n"
      ]
    },
    {
      "cell_type": "code",
      "source": [
        "class Sender:\n",
        "    def __init__(self, crypto_system):\n",
        "        self.crypto_system = crypto_system\n",
        "\n",
        "    def send(self, message):\n",
        "        encrypted_message = self.crypto_system.encrypt_message(message)\n",
        "        signature = self.crypto_system.generate_signature(message)\n",
        "        return encrypted_message, signature\n"
      ],
      "metadata": {
        "id": "oG5PDAYMjzbD"
      },
      "execution_count": null,
      "outputs": []
    },
    {
      "cell_type": "code",
      "source": [
        "class Receiver:\n",
        "    def __init__(self, crypto_system):\n",
        "        self.crypto_system = crypto_system\n",
        "\n",
        "    def receive(self, encrypted_message, signature):\n",
        "        decrypted_message = self.crypto_system.decrypt_message(encrypted_message)\n",
        "        if self.crypto_system.verify_signature(decrypted_message, signature):\n",
        "            print(\"Signature is valid.\")\n",
        "        else:\n",
        "            print(\"Signature is invalid.\")\n",
        "        return decrypted_message"
      ],
      "metadata": {
        "id": "Yk68pL98j0Yf"
      },
      "execution_count": null,
      "outputs": []
    },
    {
      "cell_type": "code",
      "source": [
        "def compute_hash(message):\n",
        "    return hashlib.sha1(message.encode()).hexdigest()\n",
        "\n",
        "start_time = timeit.default_timer()\n",
        "\n",
        "key_size = 256\n",
        "rsa = RSA(key_size)\n",
        "\n",
        "alice = Sender(rsa)\n",
        "bob = Receiver(rsa)\n",
        "\n",
        "message = \"Univer zadobav ... \"\n",
        "print(\"Original message: \", message)"
      ],
      "metadata": {
        "id": "tJcq2sWKj2J0"
      },
      "execution_count": null,
      "outputs": []
    },
    {
      "cell_type": "code",
      "source": [
        "encrypted_message, signature = alice.send(message)\n",
        "print(\"Encrypted message: \", encrypted_message)\n",
        "print(\"Signature: \", signature)"
      ],
      "metadata": {
        "id": "sJXa6daX1rUA"
      },
      "execution_count": null,
      "outputs": []
    },
    {
      "cell_type": "code",
      "source": [
        "decrypted_message = bob.receive(encrypted_message, signature)\n",
        "print(\"Decrypted message: \", decrypted_message)"
      ],
      "metadata": {
        "id": "jx6qWMNJ1sqO"
      },
      "execution_count": null,
      "outputs": []
    },
    {
      "cell_type": "code",
      "source": [
        "message_hash = compute_hash(message)\n",
        "print(\"Hash of the message: \", message_hash)"
      ],
      "metadata": {
        "id": "IcGlN2sJ1tn5"
      },
      "execution_count": null,
      "outputs": []
    },
    {
      "cell_type": "code",
      "source": [
        "elapsed_time = timeit.default_timer() - start_time\n",
        "print(\"Execution time: \", elapsed_time)"
      ],
      "metadata": {
        "id": "rEqLXm5S1uf4"
      },
      "execution_count": null,
      "outputs": []
    }
  ]
}