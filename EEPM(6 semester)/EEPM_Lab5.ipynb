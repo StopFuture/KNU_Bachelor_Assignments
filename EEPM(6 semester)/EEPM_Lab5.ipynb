{
  "nbformat": 4,
  "nbformat_minor": 0,
  "metadata": {
    "colab": {
      "provenance": []
    },
    "kernelspec": {
      "name": "python3",
      "display_name": "Python 3"
    },
    "language_info": {
      "name": "python"
    }
  },
  "cells": [
    {
      "cell_type": "markdown",
      "source": [
        "# V1\n"
      ],
      "metadata": {
        "id": "ylEBCYrGQstB"
      }
    },
    {
      "cell_type": "code",
      "execution_count": null,
      "metadata": {
        "id": "I0kp8fwTsGh6"
      },
      "outputs": [],
      "source": [
        "import numpy as np\n",
        "from scipy.integrate import solve_ivp\n",
        "import matplotlib.pyplot as plt\n",
        "import math"
      ]
    },
    {
      "cell_type": "code",
      "source": [
        "A11 = np.array([[0.5, 0.2], [0.1, 0.4]])\n",
        "A12 = np.array([[0.2], [0.1]])\n",
        "A21 = np.array([[0.2, 0.2]])\n",
        "A22 = np.array([[0.5]])\n",
        "\n",
        "B1 = np.array([[0.8, 0.3], [1.0, 0.9]])\n",
        "B2 = np.array([[0.3], [0.0]])\n",
        "\n",
        "x10 = np.array([[1500], [1000]])\n",
        "c10 = np.array([[500], [200]])\n",
        "\n",
        "tau = 0.01\n",
        "\n",
        "c2 = 400\n",
        "\n",
        "def c1(c10, tau, t):\n",
        "    return c10 * np.exp(tau * t)"
      ],
      "metadata": {
        "id": "nDR9dvW_aIjq"
      },
      "execution_count": null,
      "outputs": []
    },
    {
      "cell_type": "code",
      "source": [
        "inv = np.linalg.inv(np.eye(1) - A22)\n",
        "\n",
        "def c(A12, inv, c10, tau, t):\n",
        "    return c1(c10, tau, t) - A12 @ inv * c2\n",
        "\n",
        "c(A12, inv, c10, tau, 0)\n",
        "\n",
        "A1 = A11 + np.dot(A12, inv @ A21)\n",
        "\n",
        "A2 = A22 + np.dot(A21, np.dot(np.linalg.inv(B1 - A11), A12))\n",
        "\n",
        "B = B1 + np.dot(B2, inv @ A21)\n",
        "\n",
        "B_new = np.linalg.inv(B)\n",
        "\n",
        "B_new[1, 0] + B_new[1, 1]\n",
        "EA = np.eye(2) - A1\n",
        "EA\n",
        "\n",
        "from scipy.integrate import solve_ivp\n",
        "import plotly.express as px\n",
        "import pandas as pd\n",
        "\n",
        "def system(t, z):\n",
        "    x1, x2 = z\n",
        "\n",
        "    dx1dt = B_new @ EA @ np.array([[x1], [x2]]) - B_new @ c(A12, inv, c10, tau, t)\n",
        "\n",
        "    return dx1dt.ravel()\n",
        "\n",
        "t = np.linspace(0, 1, 500)\n",
        "\n",
        "x1_sol = solve_ivp(system, [0, 1], x10.ravel(), t_eval=t)\n",
        "x2_sol = np.linalg.inv(np.eye(1) - A22)[0] * (0.2 * x1_sol.y[0] + 0.3 * x1_sol.y[1])\n",
        "\n",
        "df = pd.DataFrame({\n",
        "    'Time': np.tile(t, 3),\n",
        "    'State': np.hstack((x1_sol.y[0], x1_sol.y[1], x2_sol)),\n",
        "    'Variable': ['x11'] * len(t) + ['x12'] * len(t) + ['x2'] * len(t)\n",
        "})\n",
        "fig = px.line(df, x='Time', y='State', color='Variable',\n",
        "              labels={'State': 'Value of State Variables'},\n",
        "              title='General')\n",
        "fig.show()"
      ],
      "metadata": {
        "id": "-L7Ho88caScY",
        "collapsed": true
      },
      "execution_count": null,
      "outputs": []
    },
    {
      "cell_type": "code",
      "source": [
        "from scipy.integrate import solve_ivp\n",
        "import plotly.express as px\n",
        "import pandas as pd\n",
        "\n",
        "def system(t, z):\n",
        "    x1, x2 = z\n",
        "\n",
        "    dx1dt = B_new @ EA @ np.array([[x1], [x2]])\n",
        "\n",
        "    return dx1dt.ravel()\n",
        "\n",
        "t = np.linspace(0, 1, 500)\n",
        "\n",
        "x1_sol = solve_ivp(system, [0, 1], x10.ravel(), t_eval=t)\n",
        "x2_sol = np.linalg.inv(np.eye(1) - A22)[0] * (0.2 * x1_sol.y[0] + 0.3 * x1_sol.y[1])\n",
        "\n",
        "df = pd.DataFrame({\n",
        "    'Time': np.tile(t, 3),\n",
        "    'State': np.hstack((x1_sol.y[0], x1_sol.y[1], x2_sol)),\n",
        "    'Variable': ['x11'] * len(t) + ['x12'] * len(t) + ['x2'] * len(t)\n",
        "})\n",
        "\n",
        "fig = px.line(df, x='Time', y='State', color='Variable',\n",
        "              labels={'State': 'Value of State Variables'},\n",
        "              title='Closed')\n",
        "fig.show()\n",
        "\n"
      ],
      "metadata": {
        "id": "EWVpMNK4ab40"
      },
      "execution_count": null,
      "outputs": []
    },
    {
      "cell_type": "code",
      "source": [
        "A11 = np.array([[0.5, 0.2], [0.1, 0.4]])\n",
        "A12 = np.array([[0.2, 0.1]]).T\n",
        "A21 = np.array([[0.2, 0.2]])\n",
        "A22 = np.array([0.5])\n",
        "\n",
        "B1 = np.array([[0.8, 0.3], [1.0, 0.9]])\n",
        "B2 = np.array([[0.3, 0]]).T\n",
        "\n",
        "x1_0 = np.array([[1500, 1000]]).T\n",
        "\n",
        "def c1(t):\n",
        "    return np.array([500, 200]) * np.exp(0.1*t)\n",
        "\n",
        "c2 = 400"
      ],
      "metadata": {
        "id": "vv9a12ybsODl"
      },
      "execution_count": null,
      "outputs": []
    },
    {
      "cell_type": "code",
      "source": [
        "A22_neg_inv = np.linalg.inv(np.eye(1) - A22)\n",
        "A1 = A11 + np.dot(np.dot(A12, A22_neg_inv), A21)\n",
        "B = B1 + np.dot(np.dot(B2, A22_neg_inv), A21)\n",
        "\n",
        "def c(t):\n",
        "    return c1(t) - np.dot(A22_neg_inv.T, A12.T).reshape(A12.shape[0]) * c2\n",
        "\n",
        "A1, B"
      ],
      "metadata": {
        "id": "iYIIt5dLsSw7",
        "colab": {
          "base_uri": "https://localhost:8080/"
        },
        "outputId": "a5441fe1-8fb6-40ca-a3df-df9c3beb51bb"
      },
      "execution_count": null,
      "outputs": [
        {
          "output_type": "execute_result",
          "data": {
            "text/plain": [
              "(array([[0.58, 0.28],\n",
              "        [0.14, 0.44]]),\n",
              " array([[0.92, 0.42],\n",
              "        [1.  , 0.9 ]]))"
            ]
          },
          "metadata": {},
          "execution_count": 39
        }
      ]
    },
    {
      "cell_type": "code",
      "source": [
        "B_inv = np.linalg.inv(B)\n",
        "A1_neg_inv = np.linalg.inv(np.eye(A1.shape[0]) - A1)\n",
        "\n",
        "def x_der(t, x):\n",
        "    return np.dot(B_inv, x) - np.dot(np.dot(B_inv, A1), x) - np.dot(B_inv, c(t))\n",
        "\n",
        "B_inv, A1_neg_inv"
      ],
      "metadata": {
        "id": "Bv8cO1Hwsbmd",
        "colab": {
          "base_uri": "https://localhost:8080/"
        },
        "outputId": "80ba992e-3223-451c-f2e1-81a62b7ab0c7"
      },
      "execution_count": null,
      "outputs": [
        {
          "output_type": "execute_result",
          "data": {
            "text/plain": [
              "(array([[ 2.20588235, -1.02941176],\n",
              "        [-2.45098039,  2.25490196]]),\n",
              " array([[2.85714286, 1.42857143],\n",
              "        [0.71428571, 2.14285714]]))"
            ]
          },
          "metadata": {},
          "execution_count": 40
        }
      ]
    },
    {
      "cell_type": "code",
      "source": [
        "t = np.linspace(0, 5, 100)\n",
        "x1 = solve_ivp(x_der, [0, 10], np.array([1500, 1000]), t_eval=t).y\n",
        "x2 = np.dot(A22_neg_inv, (np.dot(A21, x1) - c2))\n",
        "\n"
      ],
      "metadata": {
        "id": "p_--pjVHsc90"
      },
      "execution_count": null,
      "outputs": []
    },
    {
      "cell_type": "code",
      "source": [
        "def y_der(t, y):\n",
        "    return np.dot(np.dot(B_inv, np.eye(A1.shape[0]) - A1), y)"
      ],
      "metadata": {
        "id": "HFUeTdMUtMD6"
      },
      "execution_count": null,
      "outputs": []
    },
    {
      "cell_type": "code",
      "source": [
        "y1 = solve_ivp(y_der, [0, 100], [1500, 1000], t_eval=t).y\n",
        "y2 = np.dot(A22_neg_inv, (np.dot(A21, y1)))\n"
      ],
      "metadata": {
        "id": "BU_tfDHytVaN"
      },
      "execution_count": null,
      "outputs": []
    },
    {
      "cell_type": "code",
      "source": [
        "eigen_values, vector = np.linalg.eig(np.dot(A1_neg_inv, B))\n",
        "tech_growth = 1.0 / np.max(eigen_values)\n",
        "print('Technology growth factor:')\n",
        "print(tech_growth)\n",
        "\n",
        "TIME_RANGE = 300\n",
        "\n",
        "X1_tech_growth = [[1500, 1000]]\n",
        "st = 1e-3\n",
        "eps = 1e-3\n",
        "\n",
        "while st < TIME_RANGE + 20:\n",
        "    new_X1 = np.dot(X1_tech_growth[0], np.exp(tech_growth * st))\n",
        "    X1_tech_growth.append(new_X1)\n",
        "    st += eps\n",
        "\n",
        "eigen_values, vector"
      ],
      "metadata": {
        "colab": {
          "base_uri": "https://localhost:8080/"
        },
        "id": "4SkNcFG5tctP",
        "outputId": "bb590717-b462-4101-b8ec-f00fc9ef2c59"
      },
      "execution_count": null,
      "outputs": [
        {
          "output_type": "stream",
          "name": "stdout",
          "text": [
            "Technology growth factor:\n",
            "0.16849272549172106\n"
          ]
        },
        {
          "output_type": "execute_result",
          "data": {
            "text/plain": [
              "(array([5.93497433, 0.35073996]),\n",
              " array([[ 0.79790805, -0.55699076],\n",
              "        [ 0.60277919,  0.83051869]]))"
            ]
          },
          "metadata": {},
          "execution_count": 44
        }
      ]
    },
    {
      "cell_type": "code",
      "source": [
        "# Plot the final trajectory with technological growth\n",
        "plt.plot(x1[0], x1[1], 'g', label='x1 trajectory')\n",
        "plt.plot([x1_tg[0] for x1_tg in X1_tech_growth], [x1_tg[1] for x1_tg in X1_tech_growth], 'r', label='Tech growth trajectory')\n",
        "plt.plot(y1[0], y1[1], 'b', label='y1 trajectory')\n",
        "plt.axis([0, 4500, 0, 4500])\n",
        "plt.legend()\n",
        "plt.xlabel('x1_1 and y1_1')\n",
        "plt.ylabel('x1_2 and y1_2')\n",
        "plt.title('Phase trajectories')\n",
        "plt.show()\n"
      ],
      "metadata": {
        "id": "hV3udVyNE78p"
      },
      "execution_count": null,
      "outputs": []
    },
    {
      "cell_type": "code",
      "source": [
        "def c1(c10, tau, t):\n",
        "    return c10 * np.exp(tau * t)\n",
        "\n",
        "def c(A12, inv, c10, tau, t):\n",
        "    return c1(c10, tau, t) - A12 @ inv * c2\n",
        "\n",
        "X1_tech_growth = [[1500, 1000]]\n",
        "eigenvals, eigenvecs = np.linalg.eig(np.linalg.inv(EA) @ B)\n",
        "max_eigenval = np.argmax(eigenvals)\n",
        "\n",
        "print(eigenvals)\n",
        "\n",
        "tech_growth_rate = 1 / eigenvals[max_eigenval]\n",
        "print(tech_growth_rate)\n",
        "\n",
        "tech_growth_trajectory = eigenvecs[:, max_eigenval]\n",
        "print(tech_growth_trajectory)\n",
        "\n",
        "\n",
        "from scipy.integrate import solve_ivp\n",
        "import pandas as pd\n",
        "import matplotlib.pyplot as plt\n",
        "\n",
        "def system(t, z):\n",
        "    x1, x2 = z\n",
        "\n",
        "    dx1dt = B_new @ EA @ np.array([[x1], [x2]])\n",
        "\n",
        "    return dx1dt.ravel()\n",
        "\n",
        "x_range = np.linspace(0, 10000, 20)\n",
        "y_range = np.linspace(0, 10000, 20)\n",
        "X, Y = np.meshgrid(x_range, y_range)\n",
        "U, V = np.zeros(X.shape), np.zeros(Y.shape)\n",
        "for i in range(X.shape[0]):\n",
        "    for j in range(X.shape[1]):\n",
        "        rate = system(0, [X[i, j], Y[i, j]])\n",
        "        U[i, j] = rate[0]\n",
        "        V[i, j] = rate[1]\n",
        "\n",
        "magnitude = np.sqrt(U**2 + V**2)\n",
        "U_norm = U / magnitude\n",
        "V_norm = V / magnitude\n",
        "\n",
        "t = np.linspace(0, 10, 500)\n",
        "\n",
        "x1_sol = solve_ivp(system, [0, 10], x10.ravel(), t_eval=t)\n",
        "\n",
        "df = pd.DataFrame({\n",
        "    'x11': x1_sol.y[0],\n",
        "    'x12': x1_sol.y[1],\n",
        "})\n",
        "\n",
        "plt.quiver(X, Y, U_norm, V_norm, color='gray')\n",
        "\n",
        "t_values = np.linspace(0, 7000, 500)\n",
        "x_line = t_values * tech_growth_trajectory[0]\n",
        "y_line = t_values * tech_growth_trajectory[1]\n",
        "#print(x_line, y_line)\n",
        "#plt.plot(x_line, y_line, label='Tech', color='red')\n",
        "mask = (x_line >= 1600) | (y_line >= 1100)\n",
        "filtered_x_line = x_line[mask]\n",
        "filtered_y_line = y_line[mask]\n",
        "\n",
        "plt.plot(filtered_x_line, filtered_y_line, label='Tech', color='red')\n",
        "\n",
        "\n",
        "plt.plot(x1_sol.y[0], x1_sol.y[1], label=\"y1 trajectory\")\n",
        "\n",
        "def system(t, z):\n",
        "    x1, x2 = z\n",
        "\n",
        "    dx1dt = B_new @ EA @ np.array([[x1], [x2]]) - B_new @ c(A12, inv, c10, tau, t)\n",
        "\n",
        "    return dx1dt.ravel()\n",
        "\n",
        "x1_sol = solve_ivp(system, [0, 10], x10.ravel(), t_eval=t)\n",
        "\n",
        "plt.plot(x1_sol.y[0], x1_sol.y[1], label=\"x1 trajectory\", color='green')\n",
        "\n",
        "plt.title('Phase Trajectories')\n",
        "plt.xlabel('x1')\n",
        "plt.ylabel('x2')\n",
        "plt.legend()\n",
        "plt.grid(True)\n",
        "plt.xlim([0, 7000])\n",
        "plt.ylim([0, 7000])\n",
        "\n",
        "plt.gca().set_aspect('equal', adjustable='box')\n"
      ],
      "metadata": {
        "id": "0VFsCICza0Fy"
      },
      "execution_count": null,
      "outputs": []
    }
  ]
}